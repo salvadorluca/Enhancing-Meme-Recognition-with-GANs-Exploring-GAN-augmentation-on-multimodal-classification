{
 "cells": [
  {
   "cell_type": "code",
   "execution_count": 480,
   "metadata": {},
   "outputs": [
    {
     "name": "stdout",
     "output_type": "stream",
     "text": [
      "The autoreload extension is already loaded. To reload it, use:\n",
      "  %reload_ext autoreload\n"
     ]
    }
   ],
   "source": [
    "import torch\n",
    "import torch.nn as nn\n",
    "import torch.nn.functional as F\n",
    "import torch.optim as optim\n",
    "from torch.utils.data import Dataset, DataLoader, Sampler\n",
    "from torchmetrics.classification import BinaryAccuracy, BinaryAUROC\n",
    "import torch.autograd as autograd\n",
    "from tqdm import tqdm\n",
    "import matplotlib.pyplot as plt\n",
    "import numpy as np\n",
    "import os\n",
    "from typing import List\n",
    "from functools import partial\n",
    "from IPython.display import display\n",
    "\n",
    "import sys\n",
    "sys.path.insert(0, './code')\n",
    "from Combiner import Combiner\n",
    "from MLP import MLP\n",
    "\n",
    "%matplotlib inline\n",
    "%load_ext autoreload\n",
    "%autoreload 2"
   ]
  },
  {
   "cell_type": "code",
   "execution_count": 481,
   "metadata": {},
   "outputs": [],
   "source": [
    "##################### HYPERPARAMETERS #####################\n",
    "\n",
    "# Training ################################################\n",
    "batch_size = 32\n",
    "epochs = 200\n",
    "n_step_gen = 0\n",
    "n_step_disc = 1\n",
    "\n",
    "# Loss weights\n",
    "lambda_class = 1\n",
    "lambda_gp = 0\n",
    "lambda_unimodal = 0\n",
    "lambda_L1 = 1\n",
    "lambda_L2 = 0\n",
    "\n",
    "# Optimization\n",
    "lr_gen = 1e-3\n",
    "lr_disc = 1e-3\n",
    "gen_optimi = partial(optim.RMSprop, lr=lr_gen)\n",
    "disc_optim = partial(optim.RMSprop, lr=lr_disc)\n",
    "weight_cliping = None\n",
    "\n",
    "# Metrics\n",
    "acc = BinaryAccuracy(threshold=0.5, multidim_average='global')\n",
    "auroc = BinaryAUROC()\n",
    "metrics = {'acc': acc, 'auroc': auroc}\n",
    "\n",
    "# Model ########################################################\n",
    "clip_feature_dim = 768\n",
    "\n",
    "# Generator\n",
    "noise_dim = 768\n",
    "label_embedding_dim = 256 # Set to zero to have unconditioned generation\n",
    "gen_hidden_dims = [2*clip_feature_dim] * 2\n",
    "gen_dropout_prob = 0\n",
    "gen_normalize_features = False\n",
    "gen_bn = True\n",
    "\n",
    "# Discriminator\n",
    "classifier_hidden_dims = [128, 64]\n",
    "aux_classifier_hidden_dims = [128, 64]\n",
    "classifiers_dropout_prob = 0.2\n",
    "comb_dropout_prob = 0.4\n",
    "comb_fusion = 'concat'\n",
    "disc_normalize_features = False\n",
    "disc_bn = False\n",
    "\n",
    "# Unimodal\n",
    "use_unimodal = False\n"
   ]
  },
  {
   "cell_type": "code",
   "execution_count": 482,
   "metadata": {},
   "outputs": [
    {
     "name": "stdout",
     "output_type": "stream",
     "text": [
      "Device: cuda\n",
      "Data path: c:\\Users\\USER\\Desktop\\Python\\DeepProject\\data\n"
     ]
    }
   ],
   "source": [
    "# Set up seed and device\n",
    "torch.manual_seed(42)\n",
    "device = torch.device('cuda' if torch.cuda.is_available() else 'cpu')\n",
    "# device = torch.device('mps')\n",
    "\n",
    "# Setup dataset path\n",
    "\n",
    "cd = os.getcwd()\n",
    "\n",
    "data_path = os.path.join(cd, 'data')\n",
    "\n",
    "# Print\n",
    "print('Device:', device)\n",
    "print('Data path:', data_path)"
   ]
  },
  {
   "cell_type": "code",
   "execution_count": 483,
   "metadata": {},
   "outputs": [],
   "source": [
    "class BimodalDataset(Dataset):\n",
    "    def __init__(self, data):\n",
    "        self.data = data\n",
    "\n",
    "    def __len__(self):\n",
    "        return len(self.data)\n",
    "\n",
    "    def __getitem__(self, idx):\n",
    "        item = self.data[idx]\n",
    "        # Ensure that both embeddings and labels are of type torch.float32\n",
    "        img_embedding = item['image'].float().squeeze()\n",
    "        text_embedding = item['text'].float().squeeze()\n",
    "        label = item['label']\n",
    "        return img_embedding, text_embedding, label\n",
    "    \n",
    "\n",
    "class CustomSampler(Sampler):\n",
    "    # Add custom sampler if you want to balance data\n",
    "    pass"
   ]
  },
  {
   "cell_type": "code",
   "execution_count": 484,
   "metadata": {},
   "outputs": [
    {
     "name": "stdout",
     "output_type": "stream",
     "text": [
      "Train dataset size: 8500\n",
      "Val dataset size: 540\n",
      "Test dataset size: 2000\n",
      "Train dataset keys: dict_keys(['label', 'text', 'image'])\n",
      "Val dataset first item: dict_keys(['label', 'text', 'image'])\n",
      "Test dataset first item: dict_keys(['label', 'text', 'image'])\n"
     ]
    }
   ],
   "source": [
    "# Load dataset\n",
    "dataset_folder_name = 'hateful_memes'\n",
    "dataset_path = os.path.join(data_path, dataset_folder_name)\n",
    "train_path = os.path.join(dataset_path, 'train.pth')\n",
    "val_path = os.path.join(dataset_path, 'dev_unseen.pth')\n",
    "test_path = os.path.join(dataset_path, 'test_unseen.pth')\n",
    "\n",
    "# Load dataset (train-only for now)\n",
    "train_data = torch.load(train_path)\n",
    "train_dataset = BimodalDataset(train_data)\n",
    "\n",
    "val_data = torch.load(val_path)\n",
    "val_dataset = BimodalDataset(val_data)\n",
    "\n",
    "test_data = torch.load(test_path)\n",
    "test_dataset = BimodalDataset(test_data)\n",
    "\n",
    "\n",
    "# Define train dataLoader\n",
    "train_dataloader = DataLoader(train_dataset, \n",
    "                              batch_size=batch_size, \n",
    "                              shuffle=True,\n",
    "                              pin_memory=True,\n",
    "                              drop_last=False,\n",
    "                              # sampler=CustomSampler(train_dataset)\n",
    "                              )\n",
    "\n",
    "val_dataloader = DataLoader(val_dataset,\n",
    "                            batch_size=batch_size,\n",
    "                            shuffle=False,\n",
    "                            pin_memory=True,\n",
    "                            drop_last=False,\n",
    "                            )\n",
    "\n",
    "test_dataloader = DataLoader(test_dataset,\n",
    "                            batch_size=batch_size,\n",
    "                            shuffle=False,\n",
    "                            pin_memory=True,\n",
    "                            drop_last=False,\n",
    "                            )\n",
    "\n",
    "# Print \n",
    "print('Train dataset size:', len(train_dataset))\n",
    "print('Val dataset size:', len(val_dataset))\n",
    "print('Test dataset size:', len(test_dataset))\n",
    "\n",
    "# Print first items in datasets\n",
    "print('Train dataset keys:', train_data[0].keys())\n",
    "print('Val dataset first item:', val_data[0].keys())\n",
    "print('Test dataset first item:', test_data[0].keys())"
   ]
  },
  {
   "cell_type": "code",
   "execution_count": 485,
   "metadata": {},
   "outputs": [
    {
     "name": "stdout",
     "output_type": "stream",
     "text": [
      "Model weights unimodal_on_toxigen/model.pt not found in model_weights folder\n"
     ]
    }
   ],
   "source": [
    "# Load frozen model weights\n",
    "unimodal_model_name = 'unimodal_on_toxigen/model.pt'\n",
    "\n",
    "if use_unimodal and os.path.exists(f'{cd}/model_weights/{unimodal_model_name}'):\n",
    "    unimodal_model_weights = torch.load(f'{cd}/model_weights/{unimodal_model_name}', map_location=device)\n",
    "    print(f'Loaded model weights from model_weights/{unimodal_model_name}')\n",
    "else:\n",
    "    print(f'Model weights {unimodal_model_name} not found in model_weights folder')\n",
    "    unimodal_model_weights = None"
   ]
  },
  {
   "cell_type": "code",
   "execution_count": 486,
   "metadata": {},
   "outputs": [],
   "source": [
    "class Generator(nn.Module):\n",
    "    # Add cross layers in future work\n",
    "    def __init__(self,\n",
    "                 img_embedding_size: int,\n",
    "                 text_embedding_size: int,\n",
    "                 noise_dim: int,\n",
    "                 label_embedding_dim: int = 0,\n",
    "                 hidden_dims: List[int] = [],\n",
    "                 dropout_prob: float = 0.2,\n",
    "                 bn: bool = False,\n",
    "                 act: str = 'relu',\n",
    "                 normalize_features: bool = False):\n",
    "        \n",
    "        super(Generator, self).__init__()\n",
    "        self.img_embedding_size = img_embedding_size\n",
    "        self.text_embedding_size = text_embedding_size\n",
    "        self.noise_dim = noise_dim\n",
    "        self.label_embedding_dim = label_embedding_dim\n",
    "        self.hidden_dims = hidden_dims\n",
    "        self.bn = bn\n",
    "        self.dropout_prob = dropout_prob\n",
    "        self.normalize_features = normalize_features\n",
    "\n",
    "        # Define label embeddings (if conditioned)\n",
    "        if label_embedding_dim > 0:\n",
    "            self.label_embedding = nn.Embedding(2, label_embedding_dim)\n",
    "\n",
    "        self.MLP_input_dim = noise_dim + img_embedding_size + label_embedding_dim \n",
    "        self.MLP = MLP(\n",
    "                       input_dim=self.MLP_input_dim,\n",
    "                       output_dim=text_embedding_size,\n",
    "                       hidden_channels=hidden_dims,\n",
    "                       num_hidden_lyr=len(hidden_dims),\n",
    "                       dropout_prob=dropout_prob,\n",
    "                       bn=bn,\n",
    "                       act=act\n",
    "                       )\n",
    "\n",
    "    def forward(self, img_embedding, noise, label=None):\n",
    "\n",
    "        # Get label embeddings\n",
    "        if self.label_embedding_dim > 0 and label is None:\n",
    "            raise ValueError('Label embedding size is defined but no label is provided')\n",
    "\n",
    "        if self.label_embedding_dim > 0:\n",
    "            label_embedding = self.label_embedding(label)\n",
    "        else:\n",
    "            label_embedding = None\n",
    "            \n",
    "        # Normalize features\n",
    "        if self.normalize_features:\n",
    "            img_embedding = F.normalize(img_embedding, p=2, dim=-1)\n",
    "            noise = F.normalize(noise, p=2, dim=-1)\n",
    "            label_embedding = F.normalize(label_embedding, p=2, dim=-1)\n",
    "\n",
    "        # Concatenate all inputs\n",
    "        x = torch.cat((img_embedding, noise, label_embedding), dim=-1)\n",
    "\n",
    "        # Forward pass\n",
    "        x = self.MLP(x)\n",
    "\n",
    "        return x\n"
   ]
  },
  {
   "cell_type": "code",
   "execution_count": 487,
   "metadata": {},
   "outputs": [],
   "source": [
    "class Discriminator(nn.Module):\n",
    "    def __init__(self,\n",
    "                 input_dim,\n",
    "                 comb_convex_tensor: bool = False,\n",
    "                 comb_proj: bool = False, \n",
    "                 comb_fusion: str = 'concat', \n",
    "                 comb_dropout_prob: float = 0.5,\n",
    "                 classifier_hidden_dims: List[int] = [],\n",
    "                 aux_classifier_hidden_dims: List[int] = [],\n",
    "                 act: str = \"relu\",\n",
    "                 bn: bool = False,\n",
    "                 classifiers_dropout_prob: float = 0.2,\n",
    "                 normalize_features: bool = False\n",
    "                 ):\n",
    "\n",
    "        super(Discriminator, self).__init__()\n",
    "        self.input_dim = input_dim\n",
    "        self.comb_convex_tensor = comb_convex_tensor\n",
    "        self.comb_proj = comb_proj\n",
    "        self.comb_fusion = comb_fusion\n",
    "        self.comb_dropout_prob = comb_dropout_prob\n",
    "        self.classifier_hidden_dims = classifier_hidden_dims\n",
    "        self.aux_classifier_hidden_dims = aux_classifier_hidden_dims\n",
    "        self.act = act\n",
    "        self.bn = bn\n",
    "        self.classifiers_dropout_prob = classifiers_dropout_prob\n",
    "        self.normalize_features = normalize_features\n",
    "        self.combiner_output_dim = input_dim\n",
    "\n",
    "        # Define combiner\n",
    "        self.combiner = Combiner(\n",
    "            convex_tensor=self.comb_convex_tensor, \n",
    "            input_dim=input_dim, \n",
    "            comb_proj=comb_proj, \n",
    "            comb_fusion=comb_fusion, \n",
    "            comb_dropout_prob=comb_dropout_prob\n",
    "        )\n",
    "\n",
    "        # Define classifier (real/fake GAN)\n",
    "        self.classifier =  MLP(\n",
    "                       input_dim=self.combiner_output_dim,\n",
    "                       output_dim=1,\n",
    "                       hidden_channels=classifier_hidden_dims,\n",
    "                       num_hidden_lyr=len(classifier_hidden_dims),\n",
    "                       dropout_prob=classifiers_dropout_prob,\n",
    "                       bn=bn,\n",
    "                       act=act\n",
    "                       )\n",
    "\n",
    "        # Define auxiliary classifier\n",
    "        self.aux_classifier = MLP(\n",
    "                          input_dim=self.combiner_output_dim,\n",
    "                          output_dim=1,\n",
    "                          hidden_channels=aux_classifier_hidden_dims,\n",
    "                          num_hidden_lyr=len(aux_classifier_hidden_dims),\n",
    "                          dropout_prob=classifiers_dropout_prob,\n",
    "                          bn=bn,\n",
    "                          act=act\n",
    "                          )\n",
    "        \n",
    "    def forward(self, img_embedding, text_embedding):\n",
    "        # Normalization\n",
    "        if self.normalize_features:\n",
    "            img_embedding = F.normalize(img_embedding, p=2, dim=-1)\n",
    "            text_embedding = F.normalize(text_embedding, p=2, dim=-1)\n",
    "\n",
    "        # Forward pass\n",
    "        x = self.combiner(img_embedding, text_embedding)\n",
    "\n",
    "        if self.normalize_features:\n",
    "            x = F.normalize(x, p=2, dim=-1)\n",
    "\n",
    "        predicted_source = self.classifier(x).squeeze(dim=-1)\n",
    "        predicted_class = self.aux_classifier(x).squeeze(dim=-1)\n",
    "\n",
    "        return predicted_source, predicted_class\n",
    "\n"
   ]
  },
  {
   "cell_type": "code",
   "execution_count": 488,
   "metadata": {},
   "outputs": [
    {
     "name": "stdout",
     "output_type": "stream",
     "text": [
      "Generator parameters:  6.3020e+06\n",
      "Discriminator parameters:  1.2020e+07\n"
     ]
    }
   ],
   "source": [
    "def count_parameters(model):\n",
    "    return sum(p.numel() for p in model.parameters() if p.requires_grad)\n",
    "\n",
    "# Count number of parameters\n",
    "gen = Generator(\n",
    "                 img_embedding_size=clip_feature_dim,\n",
    "                 text_embedding_size=clip_feature_dim,\n",
    "                 noise_dim=noise_dim,\n",
    "                 label_embedding_dim=label_embedding_dim,\n",
    "                 hidden_dims=gen_hidden_dims,\n",
    "                 dropout_prob=gen_dropout_prob,\n",
    "                 bn=gen_bn,\n",
    "                 act=\"relu\",\n",
    "                 normalize_features=gen_normalize_features\n",
    "                 ).to(device)\n",
    "\n",
    "disc = Discriminator(\n",
    "                 clip_feature_dim,\n",
    "                 comb_convex_tensor=False,\n",
    "                 comb_proj=False, \n",
    "                 comb_fusion=comb_fusion, \n",
    "                 comb_dropout_prob=comb_dropout_prob,\n",
    "                 classifier_hidden_dims=classifier_hidden_dims,\n",
    "                 aux_classifier_hidden_dims=aux_classifier_hidden_dims,\n",
    "                 act=\"relu\",\n",
    "                 bn=disc_bn,\n",
    "                 classifiers_dropout_prob=classifiers_dropout_prob,\n",
    "                 normalize_features=disc_normalize_features\n",
    "                 ).to(device)\n",
    "\n",
    "# Print number of trainable parameters\n",
    "print(f\"Generator parameters: {count_parameters(gen): .4e}\")\n",
    "print(f\"Discriminator parameters: {count_parameters(disc): .4e}\")\n",
    "\n",
    "# Store pointers just to model parameters weights\n",
    "gen_params = [p for p in gen.parameters() if p.requires_grad]\n",
    "disc_params = [p for p in disc.parameters() if p.requires_grad]\n"
   ]
  },
  {
   "cell_type": "code",
   "execution_count": 489,
   "metadata": {},
   "outputs": [],
   "source": [
    "@torch.no_grad()\n",
    "def evaluate(model, dataloader, criterion, metrics, device):\n",
    "    model.eval()\n",
    "    # Reset val metrics\n",
    "    for metric in metrics.values():\n",
    "        metric.to(device)\n",
    "        metric.reset()\n",
    "    losses = []\n",
    "    for *inputs, label in tqdm(dataloader, leave=True, desc='Validation', colour='green'):\n",
    "        inputs = [x.to(device) for x in inputs]\n",
    "        label = label.to(device).float()\n",
    "        *outputs, class_output = model(*inputs)     # On model loss\n",
    "        loss = criterion(*outputs, label)\n",
    "        \n",
    "        losses.append(loss.item())\n",
    "        for metric in metrics.values():\n",
    "            metric.update(F.sigmoid(class_output), label)      # On dataset classification\n",
    "        \n",
    "    metrics = {k: v.compute() for k, v in metrics.items()}\n",
    "    loss = np.mean(losses)\n",
    "    return loss, metrics"
   ]
  },
  {
   "cell_type": "code",
   "execution_count": 490,
   "metadata": {},
   "outputs": [
    {
     "name": "stderr",
     "output_type": "stream",
     "text": [
      "Validation: 100%|\u001b[32m██████████\u001b[0m| 17/17 [00:00<00:00, 73.03it/s]"
     ]
    },
    {
     "name": "stdout",
     "output_type": "stream",
     "text": [
      "Loss:  0.6765, Accuracy:  0.3889, AUROC:  0.4779\n"
     ]
    },
    {
     "name": "stderr",
     "output_type": "stream",
     "text": [
      "\n"
     ]
    }
   ],
   "source": [
    "# Testing the evaluation\n",
    "criterion = nn.BCEWithLogitsLoss()\n",
    "loss, val_metrics = evaluate(disc, val_dataloader, criterion, metrics, device)\n",
    "print(f\"Loss: {loss: .4f}, Accuracy: {val_metrics['acc']: .4f}, AUROC: {val_metrics['auroc']: .4f}\")"
   ]
  },
  {
   "cell_type": "code",
   "execution_count": 491,
   "metadata": {},
   "outputs": [],
   "source": [
    "def compute_gradient_penalty(disc, img_feature, real_txt_feature, fake_txt_feature, device):\n",
    "    \"\"\"Calculates the gradient penalty loss for WGAN GP\"\"\"\n",
    "    alpha = torch.rand(img_feature.size(0), 1, device=device)\n",
    "    interpolates = (alpha * real_txt_feature + ((1 - alpha) * fake_txt_feature)).requires_grad_(True)\n",
    "    d_interpolates, *_ = disc(img_feature, interpolates) # Only penalize the discriminator (not aux classifier)\n",
    "    grad_outputs = torch.ones_like(d_interpolates)\n",
    "    \n",
    "    # Compute Gradients\n",
    "    gradients = autograd.grad(\n",
    "        outputs=d_interpolates,\n",
    "        inputs=interpolates,\n",
    "        grad_outputs=grad_outputs,\n",
    "        create_graph=True,\n",
    "        retain_graph=True,\n",
    "    )[0]\n",
    "    \n",
    "    # Compute and return Gradient Norm\n",
    "    gradients = gradients.view(img_feature.size(0), -1)\n",
    "    grad_norm = gradients.norm(2, 1)\n",
    "    return torch.mean((grad_norm - 1) ** 2)\n",
    "\n",
    "# Freeze model\n",
    "def set_model_require_grad(model, require_grad):\n",
    "    '''\n",
    "    require_grad: bool - specifies if all the parameters of the model should be set to require_grad=True or require_grad=False mode\n",
    "    In GAN training you would have to set Discriminator and Generator parameters\n",
    "    into requires_grad=True and requires_grad=False mode.\n",
    "    A function that goes through every parameter of a model and sets them to parameter.requires_grad=requires_grad mode\n",
    "    '''\n",
    "    for param in model.parameters():\n",
    "        param.requires_grad = require_grad\n",
    "\n",
    "# Clamp weights\n",
    "def clamp_weights(model, weight_cliping):\n",
    "    for p in model.parameters():\n",
    "        p.data.clamp_(weight_cliping, weight_cliping)\n",
    "\n",
    "def L1_regularization(params):\n",
    "    x = torch.cat([p.view(-1) for p in params])\n",
    "    return torch.norm(x, 1)\n",
    "\n",
    "def L2_regularization(params):\n",
    "    x = torch.cat([p.view(-1) for p in params])\n",
    "    return torch.norm(x, 2)\n",
    "\n",
    "def plot_losses(fig, ax, gen_loss_log, disc_loss_log, val_loss, val_metrics_log):\n",
    "    ax[0].clear()\n",
    "    ax[0].plot(gen_loss_log, label='Generator loss', color='orange')\n",
    "    ax[0].plot(disc_loss_log, label='Discriminator loss', color='blue')\n",
    "    # Set y-limits to include last 100 iterations\n",
    "    ax[0].set_ylim([min(min(gen_loss_log[-1000:]), min(disc_loss_log[-1000:])), max(max(gen_loss_log[-1000:]), max(disc_loss_log[-1000:]))])\n",
    "    ax[0].set_xlabel('Iteration')\n",
    "    ax[0].set_ylabel('Training loss')\n",
    "    ax[0].legend()\n",
    "    ax[0].set_title('Training loss')\n",
    "\n",
    "    ax[1].clear()\n",
    "    ax[1].plot(val_loss, color='red')\n",
    "    ax[1].set_xlabel('Epoch')\n",
    "    ax[1].set_ylabel('Loss')\n",
    "    ax[1].set_title('Validation loss on real-data classification')\n",
    "\n",
    "    ax[2].clear()\n",
    "    ax[2].plot(val_metrics_log['acc'], label='Validation accuracy', color='green')\n",
    "    ax[2].plot(val_metrics_log['auroc'], label='Validation AUROC', color='purple')\n",
    "    ax[2].set_xlabel('Epoch')\n",
    "    ax[2].legend()\n",
    "    ax[2].set_title('Validation metrics on real-data classification')\n"
   ]
  },
  {
   "cell_type": "code",
   "execution_count": 492,
   "metadata": {},
   "outputs": [
    {
     "data": {
      "image/png": "[encoded data removed]",
      "text/plain": [
       "<Figure size 1500x500 with 3 Axes>"
      ]
     },
     "metadata": {},
     "output_type": "display_data"
    },
    {
     "name": "stderr",
     "output_type": "stream",
     "text": [
      "Train: 100%|\u001b[34m██████████\u001b[0m| 266/266 [00:05<00:00, 50.78it/s]\n",
      "Validation: 100%|\u001b[32m██████████\u001b[0m| 17/17 [00:00<00:00, 198.45it/s]\n"
     ]
    },
    {
     "name": "stdout",
     "output_type": "stream",
     "text": [
      "Epoch 1/200, Disc Loss:  1.0979, Gen Loss:  3221.6909, Val Loss:  1.0684, Accuracy:  0.6389, AUROC:  0.6832\n"
     ]
    },
    {
     "name": "stderr",
     "output_type": "stream",
     "text": [
      "Train: 100%|\u001b[34m██████████\u001b[0m| 266/266 [00:05<00:00, 52.50it/s]\n",
      "Validation: 100%|\u001b[32m██████████\u001b[0m| 17/17 [00:00<00:00, 201.59it/s]\n"
     ]
    },
    {
     "name": "stdout",
     "output_type": "stream",
     "text": [
      "Epoch 2/200, Disc Loss:  0.4644, Gen Loss:  3221.6909, Val Loss:  0.9767, Accuracy:  0.6759, AUROC:  0.7162\n"
     ]
    },
    {
     "name": "stderr",
     "output_type": "stream",
     "text": [
      "Train: 100%|\u001b[34m██████████\u001b[0m| 266/266 [00:05<00:00, 52.09it/s]\n",
      "Validation: 100%|\u001b[32m██████████\u001b[0m| 17/17 [00:00<00:00, 200.50it/s]\n"
     ]
    },
    {
     "name": "stdout",
     "output_type": "stream",
     "text": [
      "Epoch 3/200, Disc Loss:  0.4162, Gen Loss:  3221.6909, Val Loss:  0.9090, Accuracy:  0.6778, AUROC:  0.7259\n"
     ]
    },
    {
     "name": "stderr",
     "output_type": "stream",
     "text": [
      "Train: 100%|\u001b[34m██████████\u001b[0m| 266/266 [00:05<00:00, 50.03it/s]\n",
      "Validation: 100%|\u001b[32m██████████\u001b[0m| 17/17 [00:00<00:00, 170.36it/s]\n"
     ]
    },
    {
     "name": "stdout",
     "output_type": "stream",
     "text": [
      "Epoch 4/200, Disc Loss:  0.3628, Gen Loss:  3221.6909, Val Loss:  1.1054, Accuracy:  0.7000, AUROC:  0.7591\n"
     ]
    },
    {
     "name": "stderr",
     "output_type": "stream",
     "text": [
      "Train: 100%|\u001b[34m██████████\u001b[0m| 266/266 [00:05<00:00, 51.13it/s]\n",
      "Validation: 100%|\u001b[32m██████████\u001b[0m| 17/17 [00:00<00:00, 179.32it/s]\n"
     ]
    },
    {
     "name": "stdout",
     "output_type": "stream",
     "text": [
      "Epoch 5/200, Disc Loss:  0.3135, Gen Loss:  3221.6909, Val Loss:  1.1630, Accuracy:  0.7167, AUROC:  0.7669\n"
     ]
    },
    {
     "name": "stderr",
     "output_type": "stream",
     "text": [
      "Train: 100%|\u001b[34m██████████\u001b[0m| 266/266 [00:05<00:00, 44.43it/s]\n",
      "Validation: 100%|\u001b[32m██████████\u001b[0m| 17/17 [00:00<00:00, 149.26it/s]\n"
     ]
    },
    {
     "name": "stdout",
     "output_type": "stream",
     "text": [
      "Epoch 6/200, Disc Loss:  0.2622, Gen Loss:  3221.6909, Val Loss:  1.2605, Accuracy:  0.7130, AUROC:  0.7576\n"
     ]
    },
    {
     "name": "stderr",
     "output_type": "stream",
     "text": [
      "Train: 100%|\u001b[34m██████████\u001b[0m| 266/266 [00:05<00:00, 48.81it/s]\n",
      "Validation: 100%|\u001b[32m██████████\u001b[0m| 17/17 [00:00<00:00, 169.74it/s]\n"
     ]
    },
    {
     "name": "stdout",
     "output_type": "stream",
     "text": [
      "Epoch 7/200, Disc Loss:  0.2284, Gen Loss:  3221.6909, Val Loss:  1.2530, Accuracy:  0.7093, AUROC:  0.7704\n"
     ]
    },
    {
     "name": "stderr",
     "output_type": "stream",
     "text": [
      "Train: 100%|\u001b[34m██████████\u001b[0m| 266/266 [00:05<00:00, 48.38it/s]\n",
      "Validation: 100%|\u001b[32m██████████\u001b[0m| 17/17 [00:00<00:00, 161.05it/s]\n"
     ]
    },
    {
     "name": "stdout",
     "output_type": "stream",
     "text": [
      "Epoch 8/200, Disc Loss:  0.1849, Gen Loss:  3221.6909, Val Loss:  1.4785, Accuracy:  0.7148, AUROC:  0.7694\n"
     ]
    },
    {
     "name": "stderr",
     "output_type": "stream",
     "text": [
      "Train: 100%|\u001b[34m██████████\u001b[0m| 266/266 [00:05<00:00, 50.04it/s]\n",
      "Validation: 100%|\u001b[32m██████████\u001b[0m| 17/17 [00:00<00:00, 144.71it/s]\n"
     ]
    },
    {
     "name": "stdout",
     "output_type": "stream",
     "text": [
      "Epoch 9/200, Disc Loss:  0.1621, Gen Loss:  3221.6909, Val Loss:  1.3533, Accuracy:  0.7130, AUROC:  0.7543\n"
     ]
    },
    {
     "name": "stderr",
     "output_type": "stream",
     "text": [
      "Train: 100%|\u001b[34m██████████\u001b[0m| 266/266 [00:05<00:00, 50.91it/s]\n",
      "Validation: 100%|\u001b[32m██████████\u001b[0m| 17/17 [00:00<00:00, 198.31it/s]\n"
     ]
    },
    {
     "name": "stdout",
     "output_type": "stream",
     "text": [
      "Epoch 10/200, Disc Loss:  0.1447, Gen Loss:  3221.6909, Val Loss:  1.2770, Accuracy:  0.7148, AUROC:  0.7621\n"
     ]
    },
    {
     "name": "stderr",
     "output_type": "stream",
     "text": [
      "Train: 100%|\u001b[34m██████████\u001b[0m| 266/266 [00:05<00:00, 51.29it/s]\n",
      "Validation: 100%|\u001b[32m██████████\u001b[0m| 17/17 [00:00<00:00, 213.95it/s]\n"
     ]
    },
    {
     "name": "stdout",
     "output_type": "stream",
     "text": [
      "Epoch 11/200, Disc Loss:  0.1288, Gen Loss:  3221.6909, Val Loss:  1.0958, Accuracy:  0.7352, AUROC:  0.7736\n"
     ]
    },
    {
     "name": "stderr",
     "output_type": "stream",
     "text": [
      "Train: 100%|\u001b[34m██████████\u001b[0m| 266/266 [00:05<00:00, 50.93it/s]\n",
      "Validation: 100%|\u001b[32m██████████\u001b[0m| 17/17 [00:00<00:00, 180.63it/s]\n"
     ]
    },
    {
     "name": "stdout",
     "output_type": "stream",
     "text": [
      "Epoch 12/200, Disc Loss:  0.1209, Gen Loss:  3221.6909, Val Loss:  1.5028, Accuracy:  0.7222, AUROC:  0.7754\n"
     ]
    },
    {
     "name": "stderr",
     "output_type": "stream",
     "text": [
      "Train: 100%|\u001b[34m██████████\u001b[0m| 266/266 [00:05<00:00, 50.54it/s]\n",
      "Validation: 100%|\u001b[32m██████████\u001b[0m| 17/17 [00:00<00:00, 204.05it/s]\n"
     ]
    },
    {
     "name": "stdout",
     "output_type": "stream",
     "text": [
      "Epoch 13/200, Disc Loss:  0.1099, Gen Loss:  3221.6909, Val Loss:  1.6265, Accuracy:  0.7130, AUROC:  0.7617\n"
     ]
    },
    {
     "name": "stderr",
     "output_type": "stream",
     "text": [
      "Train: 100%|\u001b[34m██████████\u001b[0m| 266/266 [00:05<00:00, 52.21it/s]\n",
      "Validation: 100%|\u001b[32m██████████\u001b[0m| 17/17 [00:00<00:00, 189.06it/s]\n"
     ]
    },
    {
     "name": "stdout",
     "output_type": "stream",
     "text": [
      "Epoch 14/200, Disc Loss:  0.1039, Gen Loss:  3221.6909, Val Loss:  1.5539, Accuracy:  0.7241, AUROC:  0.7771\n"
     ]
    },
    {
     "name": "stderr",
     "output_type": "stream",
     "text": [
      "Train: 100%|\u001b[34m██████████\u001b[0m| 266/266 [00:05<00:00, 52.98it/s]\n",
      "Validation: 100%|\u001b[32m██████████\u001b[0m| 17/17 [00:00<00:00, 147.80it/s]\n"
     ]
    },
    {
     "name": "stdout",
     "output_type": "stream",
     "text": [
      "Epoch 15/200, Disc Loss:  0.1003, Gen Loss:  3221.6909, Val Loss:  1.6448, Accuracy:  0.7278, AUROC:  0.7758\n"
     ]
    },
    {
     "name": "stderr",
     "output_type": "stream",
     "text": [
      "Train: 100%|\u001b[34m██████████\u001b[0m| 266/266 [00:05<00:00, 52.98it/s]\n",
      "Validation: 100%|\u001b[32m██████████\u001b[0m| 17/17 [00:00<00:00, 169.68it/s]\n"
     ]
    },
    {
     "name": "stdout",
     "output_type": "stream",
     "text": [
      "Epoch 16/200, Disc Loss:  0.0896, Gen Loss:  3221.6909, Val Loss:  2.0263, Accuracy:  0.7185, AUROC:  0.7641\n"
     ]
    },
    {
     "name": "stderr",
     "output_type": "stream",
     "text": [
      "Train: 100%|\u001b[34m██████████\u001b[0m| 266/266 [00:05<00:00, 53.12it/s]\n",
      "Validation: 100%|\u001b[32m██████████\u001b[0m| 17/17 [00:00<00:00, 185.64it/s]\n"
     ]
    },
    {
     "name": "stdout",
     "output_type": "stream",
     "text": [
      "Epoch 17/200, Disc Loss:  0.0909, Gen Loss:  3221.6909, Val Loss:  2.4819, Accuracy:  0.7241, AUROC:  0.7670\n"
     ]
    },
    {
     "name": "stderr",
     "output_type": "stream",
     "text": [
      "Train: 100%|\u001b[34m██████████\u001b[0m| 266/266 [00:04<00:00, 53.21it/s]\n",
      "Validation: 100%|\u001b[32m██████████\u001b[0m| 17/17 [00:00<00:00, 177.42it/s]\n"
     ]
    },
    {
     "name": "stdout",
     "output_type": "stream",
     "text": [
      "Epoch 18/200, Disc Loss:  0.0829, Gen Loss:  3221.6909, Val Loss:  2.2683, Accuracy:  0.7296, AUROC:  0.7674\n"
     ]
    },
    {
     "name": "stderr",
     "output_type": "stream",
     "text": [
      "Train: 100%|\u001b[34m██████████\u001b[0m| 266/266 [00:05<00:00, 52.98it/s]\n",
      "Validation: 100%|\u001b[32m██████████\u001b[0m| 17/17 [00:00<00:00, 176.59it/s]\n"
     ]
    },
    {
     "name": "stdout",
     "output_type": "stream",
     "text": [
      "Epoch 19/200, Disc Loss:  0.0829, Gen Loss:  3221.6909, Val Loss:  1.9441, Accuracy:  0.7333, AUROC:  0.7725\n"
     ]
    },
    {
     "name": "stderr",
     "output_type": "stream",
     "text": [
      "Train: 100%|\u001b[34m██████████\u001b[0m| 266/266 [00:05<00:00, 47.72it/s]\n",
      "Validation: 100%|\u001b[32m██████████\u001b[0m| 17/17 [00:00<00:00, 110.44it/s]\n"
     ]
    },
    {
     "name": "stdout",
     "output_type": "stream",
     "text": [
      "Epoch 20/200, Disc Loss:  0.0806, Gen Loss:  3221.6909, Val Loss:  1.8558, Accuracy:  0.7259, AUROC:  0.7869\n"
     ]
    },
    {
     "name": "stderr",
     "output_type": "stream",
     "text": [
      "Train: 100%|\u001b[34m██████████\u001b[0m| 266/266 [00:05<00:00, 48.30it/s]\n",
      "Validation: 100%|\u001b[32m██████████\u001b[0m| 17/17 [00:00<00:00, 165.94it/s]\n"
     ]
    },
    {
     "name": "stdout",
     "output_type": "stream",
     "text": [
      "Epoch 21/200, Disc Loss:  0.0682, Gen Loss:  3221.6909, Val Loss:  1.8304, Accuracy:  0.7222, AUROC:  0.7719\n"
     ]
    },
    {
     "name": "stderr",
     "output_type": "stream",
     "text": [
      "Train: 100%|\u001b[34m██████████\u001b[0m| 266/266 [00:05<00:00, 51.80it/s]\n",
      "Validation: 100%|\u001b[32m██████████\u001b[0m| 17/17 [00:00<00:00, 176.95it/s]\n"
     ]
    },
    {
     "name": "stdout",
     "output_type": "stream",
     "text": [
      "Epoch 22/200, Disc Loss:  0.0778, Gen Loss:  3221.6909, Val Loss:  1.8974, Accuracy:  0.7111, AUROC:  0.7698\n"
     ]
    },
    {
     "name": "stderr",
     "output_type": "stream",
     "text": [
      "Train: 100%|\u001b[34m██████████\u001b[0m| 266/266 [00:05<00:00, 52.00it/s]\n",
      "Validation: 100%|\u001b[32m██████████\u001b[0m| 17/17 [00:00<00:00, 155.30it/s]\n"
     ]
    },
    {
     "name": "stdout",
     "output_type": "stream",
     "text": [
      "Epoch 23/200, Disc Loss:  0.0691, Gen Loss:  3221.6909, Val Loss:  1.8707, Accuracy:  0.7352, AUROC:  0.7770\n"
     ]
    },
    {
     "name": "stderr",
     "output_type": "stream",
     "text": [
      "Train: 100%|\u001b[34m██████████\u001b[0m| 266/266 [00:05<00:00, 51.91it/s]\n",
      "Validation: 100%|\u001b[32m██████████\u001b[0m| 17/17 [00:00<00:00, 139.50it/s]\n"
     ]
    },
    {
     "name": "stdout",
     "output_type": "stream",
     "text": [
      "Epoch 24/200, Disc Loss:  0.0717, Gen Loss:  3221.6909, Val Loss:  1.4585, Accuracy:  0.7315, AUROC:  0.7745\n"
     ]
    },
    {
     "name": "stderr",
     "output_type": "stream",
     "text": [
      "Train: 100%|\u001b[34m██████████\u001b[0m| 266/266 [00:05<00:00, 51.40it/s]\n",
      "Validation: 100%|\u001b[32m██████████\u001b[0m| 17/17 [00:00<00:00, 167.79it/s]\n"
     ]
    },
    {
     "name": "stdout",
     "output_type": "stream",
     "text": [
      "Epoch 25/200, Disc Loss:  0.0522, Gen Loss:  3221.6909, Val Loss:  2.0036, Accuracy:  0.7352, AUROC:  0.7809\n"
     ]
    },
    {
     "name": "stderr",
     "output_type": "stream",
     "text": [
      "Train: 100%|\u001b[34m██████████\u001b[0m| 266/266 [00:05<00:00, 50.84it/s]\n",
      "Validation: 100%|\u001b[32m██████████\u001b[0m| 17/17 [00:00<00:00, 141.95it/s]\n"
     ]
    },
    {
     "name": "stdout",
     "output_type": "stream",
     "text": [
      "Epoch 26/200, Disc Loss:  0.0748, Gen Loss:  3221.6909, Val Loss:  1.5113, Accuracy:  0.7167, AUROC:  0.7759\n"
     ]
    },
    {
     "name": "stderr",
     "output_type": "stream",
     "text": [
      "Train: 100%|\u001b[34m██████████\u001b[0m| 266/266 [00:05<00:00, 51.50it/s]\n",
      "Validation: 100%|\u001b[32m██████████\u001b[0m| 17/17 [00:00<00:00, 163.08it/s]\n"
     ]
    },
    {
     "name": "stdout",
     "output_type": "stream",
     "text": [
      "Epoch 27/200, Disc Loss:  0.0658, Gen Loss:  3221.6909, Val Loss:  2.4539, Accuracy:  0.7222, AUROC:  0.7714\n"
     ]
    },
    {
     "name": "stderr",
     "output_type": "stream",
     "text": [
      "Train: 100%|\u001b[34m██████████\u001b[0m| 266/266 [00:05<00:00, 50.67it/s]\n",
      "Validation: 100%|\u001b[32m██████████\u001b[0m| 17/17 [00:00<00:00, 172.04it/s]\n"
     ]
    },
    {
     "name": "stdout",
     "output_type": "stream",
     "text": [
      "Epoch 28/200, Disc Loss:  0.0668, Gen Loss:  3221.6909, Val Loss:  1.8984, Accuracy:  0.7352, AUROC:  0.7762\n"
     ]
    },
    {
     "name": "stderr",
     "output_type": "stream",
     "text": [
      "Train: 100%|\u001b[34m██████████\u001b[0m| 266/266 [00:05<00:00, 52.63it/s]\n",
      "Validation: 100%|\u001b[32m██████████\u001b[0m| 17/17 [00:00<00:00, 150.39it/s]\n"
     ]
    },
    {
     "name": "stdout",
     "output_type": "stream",
     "text": [
      "Epoch 29/200, Disc Loss:  0.0661, Gen Loss:  3221.6909, Val Loss:  3.6171, Accuracy:  0.7407, AUROC:  0.7795\n"
     ]
    },
    {
     "name": "stderr",
     "output_type": "stream",
     "text": [
      "Train: 100%|\u001b[34m██████████\u001b[0m| 266/266 [00:05<00:00, 51.55it/s]\n",
      "Validation: 100%|\u001b[32m██████████\u001b[0m| 17/17 [00:00<00:00, 199.24it/s]\n"
     ]
    },
    {
     "name": "stdout",
     "output_type": "stream",
     "text": [
      "Epoch 30/200, Disc Loss:  0.0656, Gen Loss:  3221.6909, Val Loss:  3.7447, Accuracy:  0.7315, AUROC:  0.7806\n"
     ]
    },
    {
     "name": "stderr",
     "output_type": "stream",
     "text": [
      "Train: 100%|\u001b[34m██████████\u001b[0m| 266/266 [00:04<00:00, 53.20it/s]\n",
      "Validation: 100%|\u001b[32m██████████\u001b[0m| 17/17 [00:00<00:00, 172.95it/s]\n"
     ]
    },
    {
     "name": "stdout",
     "output_type": "stream",
     "text": [
      "Epoch 31/200, Disc Loss:  0.0486, Gen Loss:  3221.6909, Val Loss:  4.3498, Accuracy:  0.7222, AUROC:  0.7845\n"
     ]
    },
    {
     "name": "stderr",
     "output_type": "stream",
     "text": [
      "Train: 100%|\u001b[34m██████████\u001b[0m| 266/266 [00:05<00:00, 52.93it/s]\n",
      "Validation: 100%|\u001b[32m██████████\u001b[0m| 17/17 [00:00<00:00, 196.81it/s]\n"
     ]
    },
    {
     "name": "stdout",
     "output_type": "stream",
     "text": [
      "Epoch 32/200, Disc Loss:  0.0725, Gen Loss:  3221.6909, Val Loss:  5.7430, Accuracy:  0.7259, AUROC:  0.7718\n"
     ]
    },
    {
     "name": "stderr",
     "output_type": "stream",
     "text": [
      "Train: 100%|\u001b[34m██████████\u001b[0m| 266/266 [00:05<00:00, 52.84it/s]\n",
      "Validation: 100%|\u001b[32m██████████\u001b[0m| 17/17 [00:00<00:00, 172.90it/s]\n"
     ]
    },
    {
     "name": "stdout",
     "output_type": "stream",
     "text": [
      "Epoch 33/200, Disc Loss:  0.0606, Gen Loss:  3221.6909, Val Loss:  4.6088, Accuracy:  0.7296, AUROC:  0.7773\n"
     ]
    },
    {
     "name": "stderr",
     "output_type": "stream",
     "text": [
      "Train: 100%|\u001b[34m██████████\u001b[0m| 266/266 [00:05<00:00, 53.02it/s]\n",
      "Validation: 100%|\u001b[32m██████████\u001b[0m| 17/17 [00:00<00:00, 145.86it/s]\n"
     ]
    },
    {
     "name": "stdout",
     "output_type": "stream",
     "text": [
      "Epoch 34/200, Disc Loss:  0.0503, Gen Loss:  3221.6909, Val Loss:  4.7883, Accuracy:  0.7333, AUROC:  0.7763\n"
     ]
    },
    {
     "name": "stderr",
     "output_type": "stream",
     "text": [
      "Train: 100%|\u001b[34m██████████\u001b[0m| 266/266 [00:05<00:00, 52.88it/s]\n",
      "Validation: 100%|\u001b[32m██████████\u001b[0m| 17/17 [00:00<00:00, 172.08it/s]\n"
     ]
    },
    {
     "name": "stdout",
     "output_type": "stream",
     "text": [
      "Epoch 35/200, Disc Loss:  0.0520, Gen Loss:  3221.6909, Val Loss:  4.2896, Accuracy:  0.7278, AUROC:  0.7752\n"
     ]
    },
    {
     "name": "stderr",
     "output_type": "stream",
     "text": [
      "Train: 100%|\u001b[34m██████████\u001b[0m| 266/266 [00:05<00:00, 51.15it/s]\n",
      "Validation: 100%|\u001b[32m██████████\u001b[0m| 17/17 [00:00<00:00, 171.02it/s]\n"
     ]
    },
    {
     "name": "stdout",
     "output_type": "stream",
     "text": [
      "Epoch 36/200, Disc Loss:  0.0485, Gen Loss:  3221.6909, Val Loss:  6.2782, Accuracy:  0.7500, AUROC:  0.7831\n"
     ]
    },
    {
     "name": "stderr",
     "output_type": "stream",
     "text": [
      "Train: 100%|\u001b[34m██████████\u001b[0m| 266/266 [00:04<00:00, 53.38it/s]\n",
      "Validation: 100%|\u001b[32m██████████\u001b[0m| 17/17 [00:00<00:00, 170.17it/s]\n"
     ]
    },
    {
     "name": "stdout",
     "output_type": "stream",
     "text": [
      "Epoch 37/200, Disc Loss:  0.0489, Gen Loss:  3221.6909, Val Loss:  5.3080, Accuracy:  0.7296, AUROC:  0.7700\n"
     ]
    },
    {
     "name": "stderr",
     "output_type": "stream",
     "text": [
      "Train: 100%|\u001b[34m██████████\u001b[0m| 266/266 [00:05<00:00, 52.81it/s]\n",
      "Validation: 100%|\u001b[32m██████████\u001b[0m| 17/17 [00:00<00:00, 166.75it/s]\n"
     ]
    },
    {
     "name": "stdout",
     "output_type": "stream",
     "text": [
      "Epoch 38/200, Disc Loss:  0.0321, Gen Loss:  3221.6909, Val Loss:  4.2418, Accuracy:  0.7463, AUROC:  0.7927\n"
     ]
    },
    {
     "name": "stderr",
     "output_type": "stream",
     "text": [
      "Train: 100%|\u001b[34m██████████\u001b[0m| 266/266 [00:05<00:00, 52.63it/s]\n",
      "Validation: 100%|\u001b[32m██████████\u001b[0m| 17/17 [00:00<00:00, 150.85it/s]\n"
     ]
    },
    {
     "name": "stdout",
     "output_type": "stream",
     "text": [
      "Epoch 39/200, Disc Loss:  0.0521, Gen Loss:  3221.6909, Val Loss:  5.1813, Accuracy:  0.7296, AUROC:  0.7764\n"
     ]
    },
    {
     "name": "stderr",
     "output_type": "stream",
     "text": [
      "Train: 100%|\u001b[34m██████████\u001b[0m| 266/266 [00:05<00:00, 53.02it/s]\n",
      "Validation: 100%|\u001b[32m██████████\u001b[0m| 17/17 [00:00<00:00, 171.38it/s]\n"
     ]
    },
    {
     "name": "stdout",
     "output_type": "stream",
     "text": [
      "Epoch 40/200, Disc Loss:  0.0714, Gen Loss:  3221.6909, Val Loss:  5.6860, Accuracy:  0.7278, AUROC:  0.7696\n"
     ]
    },
    {
     "name": "stderr",
     "output_type": "stream",
     "text": [
      "Train: 100%|\u001b[34m██████████\u001b[0m| 266/266 [00:05<00:00, 50.98it/s]\n",
      "Validation: 100%|\u001b[32m██████████\u001b[0m| 17/17 [00:00<00:00, 143.70it/s]\n"
     ]
    },
    {
     "name": "stdout",
     "output_type": "stream",
     "text": [
      "Epoch 41/200, Disc Loss:  0.0364, Gen Loss:  3221.6909, Val Loss:  6.0879, Accuracy:  0.7222, AUROC:  0.7796\n"
     ]
    },
    {
     "name": "stderr",
     "output_type": "stream",
     "text": [
      "Train: 100%|\u001b[34m██████████\u001b[0m| 266/266 [00:05<00:00, 51.46it/s]\n",
      "Validation: 100%|\u001b[32m██████████\u001b[0m| 17/17 [00:00<00:00, 121.24it/s]\n"
     ]
    },
    {
     "name": "stdout",
     "output_type": "stream",
     "text": [
      "Epoch 42/200, Disc Loss:  0.0483, Gen Loss:  3221.6909, Val Loss:  6.1829, Accuracy:  0.7389, AUROC:  0.7879\n"
     ]
    },
    {
     "name": "stderr",
     "output_type": "stream",
     "text": [
      "Train: 100%|\u001b[34m██████████\u001b[0m| 266/266 [00:05<00:00, 51.03it/s]\n",
      "Validation: 100%|\u001b[32m██████████\u001b[0m| 17/17 [00:00<00:00, 144.58it/s]\n"
     ]
    },
    {
     "name": "stdout",
     "output_type": "stream",
     "text": [
      "Epoch 43/200, Disc Loss:  0.0397, Gen Loss:  3221.6909, Val Loss:  4.8158, Accuracy:  0.7296, AUROC:  0.7925\n"
     ]
    },
    {
     "name": "stderr",
     "output_type": "stream",
     "text": [
      "Train: 100%|\u001b[34m██████████\u001b[0m| 266/266 [00:05<00:00, 52.23it/s]\n",
      "Validation: 100%|\u001b[32m██████████\u001b[0m| 17/17 [00:00<00:00, 133.36it/s]\n"
     ]
    },
    {
     "name": "stdout",
     "output_type": "stream",
     "text": [
      "Epoch 44/200, Disc Loss:  0.0338, Gen Loss:  3221.6909, Val Loss:  5.8585, Accuracy:  0.7296, AUROC:  0.7693\n"
     ]
    },
    {
     "name": "stderr",
     "output_type": "stream",
     "text": [
      "Train: 100%|\u001b[34m██████████\u001b[0m| 266/266 [00:05<00:00, 51.83it/s]\n",
      "Validation: 100%|\u001b[32m██████████\u001b[0m| 17/17 [00:00<00:00, 167.33it/s]\n"
     ]
    },
    {
     "name": "stdout",
     "output_type": "stream",
     "text": [
      "Epoch 45/200, Disc Loss:  0.0505, Gen Loss:  3221.6909, Val Loss:  5.7241, Accuracy:  0.7204, AUROC:  0.7733\n"
     ]
    },
    {
     "name": "stderr",
     "output_type": "stream",
     "text": [
      "Train: 100%|\u001b[34m██████████\u001b[0m| 266/266 [00:05<00:00, 51.35it/s]\n",
      "Validation: 100%|\u001b[32m██████████\u001b[0m| 17/17 [00:00<00:00, 143.09it/s]\n"
     ]
    },
    {
     "name": "stdout",
     "output_type": "stream",
     "text": [
      "Epoch 46/200, Disc Loss:  0.0534, Gen Loss:  3221.6909, Val Loss:  4.8913, Accuracy:  0.7222, AUROC:  0.7749\n"
     ]
    },
    {
     "name": "stderr",
     "output_type": "stream",
     "text": [
      "Train: 100%|\u001b[34m██████████\u001b[0m| 266/266 [00:05<00:00, 51.97it/s]\n",
      "Validation: 100%|\u001b[32m██████████\u001b[0m| 17/17 [00:00<00:00, 132.32it/s]\n"
     ]
    },
    {
     "name": "stdout",
     "output_type": "stream",
     "text": [
      "Epoch 47/200, Disc Loss:  0.0504, Gen Loss:  3221.6909, Val Loss:  4.3809, Accuracy:  0.7333, AUROC:  0.7800\n"
     ]
    },
    {
     "name": "stderr",
     "output_type": "stream",
     "text": [
      "Train: 100%|\u001b[34m██████████\u001b[0m| 266/266 [00:05<00:00, 51.50it/s]\n",
      "Validation: 100%|\u001b[32m██████████\u001b[0m| 17/17 [00:00<00:00, 144.18it/s]\n"
     ]
    },
    {
     "name": "stdout",
     "output_type": "stream",
     "text": [
      "Epoch 48/200, Disc Loss:  0.0456, Gen Loss:  3221.6909, Val Loss:  4.7714, Accuracy:  0.7222, AUROC:  0.7766\n"
     ]
    },
    {
     "name": "stderr",
     "output_type": "stream",
     "text": [
      "Train: 100%|\u001b[34m██████████\u001b[0m| 266/266 [00:05<00:00, 51.67it/s]\n",
      "Validation: 100%|\u001b[32m██████████\u001b[0m| 17/17 [00:00<00:00, 134.26it/s]\n"
     ]
    },
    {
     "name": "stdout",
     "output_type": "stream",
     "text": [
      "Epoch 49/200, Disc Loss:  0.0559, Gen Loss:  3221.6909, Val Loss:  4.0667, Accuracy:  0.7333, AUROC:  0.7744\n"
     ]
    },
    {
     "name": "stderr",
     "output_type": "stream",
     "text": [
      "Train: 100%|\u001b[34m██████████\u001b[0m| 266/266 [00:05<00:00, 52.02it/s]\n",
      "Validation: 100%|\u001b[32m██████████\u001b[0m| 17/17 [00:00<00:00, 144.52it/s]\n"
     ]
    },
    {
     "name": "stdout",
     "output_type": "stream",
     "text": [
      "Epoch 50/200, Disc Loss:  0.0579, Gen Loss:  3221.6909, Val Loss:  4.0750, Accuracy:  0.7185, AUROC:  0.7794\n"
     ]
    },
    {
     "name": "stderr",
     "output_type": "stream",
     "text": [
      "Train: 100%|\u001b[34m██████████\u001b[0m| 266/266 [00:05<00:00, 51.13it/s]\n",
      "Validation: 100%|\u001b[32m██████████\u001b[0m| 17/17 [00:00<00:00, 141.42it/s]\n"
     ]
    },
    {
     "name": "stdout",
     "output_type": "stream",
     "text": [
      "Epoch 51/200, Disc Loss:  0.0424, Gen Loss:  3221.6909, Val Loss:  4.5129, Accuracy:  0.7148, AUROC:  0.7796\n"
     ]
    },
    {
     "name": "stderr",
     "output_type": "stream",
     "text": [
      "Train: 100%|\u001b[34m██████████\u001b[0m| 266/266 [00:05<00:00, 52.77it/s]\n",
      "Validation: 100%|\u001b[32m██████████\u001b[0m| 17/17 [00:00<00:00, 192.60it/s]\n"
     ]
    },
    {
     "name": "stdout",
     "output_type": "stream",
     "text": [
      "Epoch 52/200, Disc Loss:  0.0331, Gen Loss:  3221.6909, Val Loss:  3.7970, Accuracy:  0.7241, AUROC:  0.7806\n"
     ]
    },
    {
     "name": "stderr",
     "output_type": "stream",
     "text": [
      "Train: 100%|\u001b[34m██████████\u001b[0m| 266/266 [00:05<00:00, 51.95it/s]\n",
      "Validation: 100%|\u001b[32m██████████\u001b[0m| 17/17 [00:00<00:00, 190.32it/s]\n"
     ]
    },
    {
     "name": "stdout",
     "output_type": "stream",
     "text": [
      "Epoch 53/200, Disc Loss:  0.0389, Gen Loss:  3221.6909, Val Loss:  4.6125, Accuracy:  0.7315, AUROC:  0.7746\n"
     ]
    },
    {
     "name": "stderr",
     "output_type": "stream",
     "text": [
      "Train: 100%|\u001b[34m██████████\u001b[0m| 266/266 [00:05<00:00, 52.80it/s]\n",
      "Validation: 100%|\u001b[32m██████████\u001b[0m| 17/17 [00:00<00:00, 166.80it/s]\n"
     ]
    },
    {
     "name": "stdout",
     "output_type": "stream",
     "text": [
      "Epoch 54/200, Disc Loss:  0.0408, Gen Loss:  3221.6909, Val Loss:  5.0324, Accuracy:  0.7204, AUROC:  0.7658\n"
     ]
    },
    {
     "name": "stderr",
     "output_type": "stream",
     "text": [
      "Train: 100%|\u001b[34m██████████\u001b[0m| 266/266 [00:05<00:00, 52.67it/s]\n",
      "Validation: 100%|\u001b[32m██████████\u001b[0m| 17/17 [00:00<00:00, 143.96it/s]\n"
     ]
    },
    {
     "name": "stdout",
     "output_type": "stream",
     "text": [
      "Epoch 55/200, Disc Loss:  0.0449, Gen Loss:  3221.6909, Val Loss:  2.5683, Accuracy:  0.7296, AUROC:  0.7776\n"
     ]
    },
    {
     "name": "stderr",
     "output_type": "stream",
     "text": [
      "Train: 100%|\u001b[34m██████████\u001b[0m| 266/266 [00:05<00:00, 53.06it/s]\n",
      "Validation: 100%|\u001b[32m██████████\u001b[0m| 17/17 [00:00<00:00, 196.02it/s]\n"
     ]
    },
    {
     "name": "stdout",
     "output_type": "stream",
     "text": [
      "Epoch 56/200, Disc Loss:  0.0327, Gen Loss:  3221.6909, Val Loss:  4.8579, Accuracy:  0.7259, AUROC:  0.7721\n"
     ]
    },
    {
     "name": "stderr",
     "output_type": "stream",
     "text": [
      "Train: 100%|\u001b[34m██████████\u001b[0m| 266/266 [00:05<00:00, 52.46it/s]\n",
      "Validation: 100%|\u001b[32m██████████\u001b[0m| 17/17 [00:00<00:00, 170.22it/s]\n"
     ]
    },
    {
     "name": "stdout",
     "output_type": "stream",
     "text": [
      "Epoch 57/200, Disc Loss:  0.0285, Gen Loss:  3221.6909, Val Loss:  7.3714, Accuracy:  0.7333, AUROC:  0.7805\n"
     ]
    },
    {
     "name": "stderr",
     "output_type": "stream",
     "text": [
      "Train: 100%|\u001b[34m██████████\u001b[0m| 266/266 [00:05<00:00, 52.15it/s]\n",
      "Validation: 100%|\u001b[32m██████████\u001b[0m| 17/17 [00:00<00:00, 173.54it/s]\n"
     ]
    },
    {
     "name": "stdout",
     "output_type": "stream",
     "text": [
      "Epoch 58/200, Disc Loss:  0.0702, Gen Loss:  3221.6909, Val Loss:  4.9476, Accuracy:  0.7389, AUROC:  0.7750\n"
     ]
    },
    {
     "name": "stderr",
     "output_type": "stream",
     "text": [
      "Train: 100%|\u001b[34m██████████\u001b[0m| 266/266 [00:05<00:00, 52.67it/s]\n",
      "Validation: 100%|\u001b[32m██████████\u001b[0m| 17/17 [00:00<00:00, 169.13it/s]\n"
     ]
    },
    {
     "name": "stdout",
     "output_type": "stream",
     "text": [
      "Epoch 59/200, Disc Loss:  0.0310, Gen Loss:  3221.6909, Val Loss:  9.7247, Accuracy:  0.7259, AUROC:  0.7715\n"
     ]
    },
    {
     "name": "stderr",
     "output_type": "stream",
     "text": [
      "Train: 100%|\u001b[34m██████████\u001b[0m| 266/266 [00:05<00:00, 52.15it/s]\n",
      "Validation: 100%|\u001b[32m██████████\u001b[0m| 17/17 [00:00<00:00, 173.51it/s]\n"
     ]
    },
    {
     "name": "stdout",
     "output_type": "stream",
     "text": [
      "Epoch 60/200, Disc Loss:  0.0264, Gen Loss:  3221.6909, Val Loss:  9.7232, Accuracy:  0.7352, AUROC:  0.7761\n"
     ]
    },
    {
     "name": "stderr",
     "output_type": "stream",
     "text": [
      "Train: 100%|\u001b[34m██████████\u001b[0m| 266/266 [00:05<00:00, 52.12it/s]\n",
      "Validation: 100%|\u001b[32m██████████\u001b[0m| 17/17 [00:00<00:00, 174.87it/s]\n"
     ]
    },
    {
     "name": "stdout",
     "output_type": "stream",
     "text": [
      "Epoch 61/200, Disc Loss:  0.0338, Gen Loss:  3221.6909, Val Loss:  7.6509, Accuracy:  0.7259, AUROC:  0.7620\n"
     ]
    },
    {
     "name": "stderr",
     "output_type": "stream",
     "text": [
      "Train: 100%|\u001b[34m██████████\u001b[0m| 266/266 [00:05<00:00, 52.79it/s]\n",
      "Validation: 100%|\u001b[32m██████████\u001b[0m| 17/17 [00:00<00:00, 113.29it/s]\n"
     ]
    },
    {
     "name": "stdout",
     "output_type": "stream",
     "text": [
      "Epoch 62/200, Disc Loss:  0.0390, Gen Loss:  3221.6909, Val Loss:  7.2566, Accuracy:  0.7222, AUROC:  0.7668\n"
     ]
    },
    {
     "name": "stderr",
     "output_type": "stream",
     "text": [
      "Train: 100%|\u001b[34m██████████\u001b[0m| 266/266 [00:05<00:00, 49.57it/s]\n",
      "Validation: 100%|\u001b[32m██████████\u001b[0m| 17/17 [00:00<00:00, 180.61it/s]\n"
     ]
    },
    {
     "name": "stdout",
     "output_type": "stream",
     "text": [
      "Epoch 63/200, Disc Loss:  0.0664, Gen Loss:  3221.6909, Val Loss:  7.0920, Accuracy:  0.7315, AUROC:  0.7709\n"
     ]
    },
    {
     "name": "stderr",
     "output_type": "stream",
     "text": [
      "Train: 100%|\u001b[34m██████████\u001b[0m| 266/266 [00:05<00:00, 51.79it/s]\n",
      "Validation: 100%|\u001b[32m██████████\u001b[0m| 17/17 [00:00<00:00, 156.64it/s]\n"
     ]
    },
    {
     "name": "stdout",
     "output_type": "stream",
     "text": [
      "Epoch 64/200, Disc Loss:  0.0415, Gen Loss:  3221.6909, Val Loss:  5.1375, Accuracy:  0.7315, AUROC:  0.7778\n"
     ]
    },
    {
     "name": "stderr",
     "output_type": "stream",
     "text": [
      "Train: 100%|\u001b[34m██████████\u001b[0m| 266/266 [00:05<00:00, 52.82it/s]\n",
      "Validation: 100%|\u001b[32m██████████\u001b[0m| 17/17 [00:00<00:00, 173.18it/s]\n"
     ]
    },
    {
     "name": "stdout",
     "output_type": "stream",
     "text": [
      "Epoch 65/200, Disc Loss:  0.0244, Gen Loss:  3221.6909, Val Loss:  7.0711, Accuracy:  0.7278, AUROC:  0.7721\n"
     ]
    },
    {
     "name": "stderr",
     "output_type": "stream",
     "text": [
      "Train: 100%|\u001b[34m██████████\u001b[0m| 266/266 [00:05<00:00, 52.78it/s]\n",
      "Validation: 100%|\u001b[32m██████████\u001b[0m| 17/17 [00:00<00:00, 162.31it/s]\n"
     ]
    },
    {
     "name": "stdout",
     "output_type": "stream",
     "text": [
      "Epoch 66/200, Disc Loss:  0.0326, Gen Loss:  3221.6909, Val Loss:  5.2157, Accuracy:  0.7278, AUROC:  0.7672\n"
     ]
    },
    {
     "name": "stderr",
     "output_type": "stream",
     "text": [
      "Train: 100%|\u001b[34m██████████\u001b[0m| 266/266 [00:05<00:00, 52.94it/s]\n",
      "Validation: 100%|\u001b[32m██████████\u001b[0m| 17/17 [00:00<00:00, 194.84it/s]\n"
     ]
    },
    {
     "name": "stdout",
     "output_type": "stream",
     "text": [
      "Epoch 67/200, Disc Loss:  0.0428, Gen Loss:  3221.6909, Val Loss:  6.2623, Accuracy:  0.7315, AUROC:  0.7788\n"
     ]
    },
    {
     "name": "stderr",
     "output_type": "stream",
     "text": [
      "Train: 100%|\u001b[34m██████████\u001b[0m| 266/266 [00:05<00:00, 52.68it/s]\n",
      "Validation: 100%|\u001b[32m██████████\u001b[0m| 17/17 [00:00<00:00, 200.14it/s]\n"
     ]
    },
    {
     "name": "stdout",
     "output_type": "stream",
     "text": [
      "Epoch 68/200, Disc Loss:  0.0368, Gen Loss:  3221.6909, Val Loss:  5.1011, Accuracy:  0.7241, AUROC:  0.7635\n"
     ]
    },
    {
     "name": "stderr",
     "output_type": "stream",
     "text": [
      "Train: 100%|\u001b[34m██████████\u001b[0m| 266/266 [00:05<00:00, 53.20it/s]\n",
      "Validation: 100%|\u001b[32m██████████\u001b[0m| 17/17 [00:00<00:00, 142.03it/s]\n"
     ]
    },
    {
     "name": "stdout",
     "output_type": "stream",
     "text": [
      "Epoch 69/200, Disc Loss:  0.0307, Gen Loss:  3221.6909, Val Loss:  6.4420, Accuracy:  0.7130, AUROC:  0.7558\n"
     ]
    },
    {
     "name": "stderr",
     "output_type": "stream",
     "text": [
      "Train: 100%|\u001b[34m██████████\u001b[0m| 266/266 [00:05<00:00, 52.67it/s]\n",
      "Validation: 100%|\u001b[32m██████████\u001b[0m| 17/17 [00:00<00:00, 170.43it/s]\n"
     ]
    },
    {
     "name": "stdout",
     "output_type": "stream",
     "text": [
      "Epoch 70/200, Disc Loss:  0.0252, Gen Loss:  3221.6909, Val Loss:  6.9973, Accuracy:  0.7259, AUROC:  0.7703\n"
     ]
    },
    {
     "name": "stderr",
     "output_type": "stream",
     "text": [
      "Train: 100%|\u001b[34m██████████\u001b[0m| 266/266 [00:04<00:00, 53.55it/s]\n",
      "Validation: 100%|\u001b[32m██████████\u001b[0m| 17/17 [00:00<00:00, 173.58it/s]\n"
     ]
    },
    {
     "name": "stdout",
     "output_type": "stream",
     "text": [
      "Epoch 71/200, Disc Loss:  0.0380, Gen Loss:  3221.6909, Val Loss:  7.6848, Accuracy:  0.7222, AUROC:  0.7710\n"
     ]
    },
    {
     "name": "stderr",
     "output_type": "stream",
     "text": [
      "Train: 100%|\u001b[34m██████████\u001b[0m| 266/266 [00:05<00:00, 51.20it/s]\n",
      "Validation: 100%|\u001b[32m██████████\u001b[0m| 17/17 [00:00<00:00, 141.79it/s]\n"
     ]
    },
    {
     "name": "stdout",
     "output_type": "stream",
     "text": [
      "Epoch 72/200, Disc Loss:  0.0351, Gen Loss:  3221.6909, Val Loss:  5.9864, Accuracy:  0.7241, AUROC:  0.7593\n"
     ]
    },
    {
     "name": "stderr",
     "output_type": "stream",
     "text": [
      "Train: 100%|\u001b[34m██████████\u001b[0m| 266/266 [00:05<00:00, 51.00it/s]\n",
      "Validation: 100%|\u001b[32m██████████\u001b[0m| 17/17 [00:00<00:00, 142.81it/s]\n"
     ]
    },
    {
     "name": "stdout",
     "output_type": "stream",
     "text": [
      "Epoch 73/200, Disc Loss:  0.0349, Gen Loss:  3221.6909, Val Loss:  7.9260, Accuracy:  0.7222, AUROC:  0.7632\n"
     ]
    },
    {
     "name": "stderr",
     "output_type": "stream",
     "text": [
      "Train: 100%|\u001b[34m██████████\u001b[0m| 266/266 [00:05<00:00, 50.83it/s]\n",
      "Validation: 100%|\u001b[32m██████████\u001b[0m| 17/17 [00:00<00:00, 134.96it/s]\n"
     ]
    },
    {
     "name": "stdout",
     "output_type": "stream",
     "text": [
      "Epoch 74/200, Disc Loss:  0.0446, Gen Loss:  3221.6909, Val Loss:  7.8435, Accuracy:  0.7204, AUROC:  0.7731\n"
     ]
    },
    {
     "name": "stderr",
     "output_type": "stream",
     "text": [
      "Train: 100%|\u001b[34m██████████\u001b[0m| 266/266 [00:05<00:00, 50.74it/s]\n",
      "Validation: 100%|\u001b[32m██████████\u001b[0m| 17/17 [00:00<00:00, 143.38it/s]\n"
     ]
    },
    {
     "name": "stdout",
     "output_type": "stream",
     "text": [
      "Epoch 75/200, Disc Loss:  0.0317, Gen Loss:  3221.6909, Val Loss:  5.7387, Accuracy:  0.7241, AUROC:  0.7697\n"
     ]
    },
    {
     "name": "stderr",
     "output_type": "stream",
     "text": [
      "Train: 100%|\u001b[34m██████████\u001b[0m| 266/266 [00:05<00:00, 50.90it/s]\n",
      "Validation: 100%|\u001b[32m██████████\u001b[0m| 17/17 [00:00<00:00, 151.10it/s]\n"
     ]
    },
    {
     "name": "stdout",
     "output_type": "stream",
     "text": [
      "Epoch 76/200, Disc Loss:  0.0277, Gen Loss:  3221.6909, Val Loss:  5.5215, Accuracy:  0.7370, AUROC:  0.7750\n"
     ]
    },
    {
     "name": "stderr",
     "output_type": "stream",
     "text": [
      "Train: 100%|\u001b[34m██████████\u001b[0m| 266/266 [00:05<00:00, 50.35it/s]\n",
      "Validation: 100%|\u001b[32m██████████\u001b[0m| 17/17 [00:00<00:00, 134.30it/s]\n"
     ]
    },
    {
     "name": "stdout",
     "output_type": "stream",
     "text": [
      "Epoch 77/200, Disc Loss:  0.0343, Gen Loss:  3221.6909, Val Loss:  5.5172, Accuracy:  0.7185, AUROC:  0.7570\n"
     ]
    },
    {
     "name": "stderr",
     "output_type": "stream",
     "text": [
      "Train: 100%|\u001b[34m██████████\u001b[0m| 266/266 [00:05<00:00, 50.91it/s]\n",
      "Validation: 100%|\u001b[32m██████████\u001b[0m| 17/17 [00:00<00:00, 146.06it/s]\n"
     ]
    },
    {
     "name": "stdout",
     "output_type": "stream",
     "text": [
      "Epoch 78/200, Disc Loss:  0.0266, Gen Loss:  3221.6909, Val Loss:  7.3036, Accuracy:  0.7241, AUROC:  0.7590\n"
     ]
    },
    {
     "name": "stderr",
     "output_type": "stream",
     "text": [
      "Train: 100%|\u001b[34m██████████\u001b[0m| 266/266 [00:05<00:00, 51.02it/s]\n",
      "Validation: 100%|\u001b[32m██████████\u001b[0m| 17/17 [00:00<00:00, 170.04it/s]\n"
     ]
    },
    {
     "name": "stdout",
     "output_type": "stream",
     "text": [
      "Epoch 79/200, Disc Loss:  0.0207, Gen Loss:  3221.6909, Val Loss:  7.2486, Accuracy:  0.7278, AUROC:  0.7769\n"
     ]
    },
    {
     "name": "stderr",
     "output_type": "stream",
     "text": [
      "Train: 100%|\u001b[34m██████████\u001b[0m| 266/266 [00:05<00:00, 52.85it/s]\n",
      "Validation: 100%|\u001b[32m██████████\u001b[0m| 17/17 [00:00<00:00, 137.59it/s]\n"
     ]
    },
    {
     "name": "stdout",
     "output_type": "stream",
     "text": [
      "Epoch 80/200, Disc Loss:  0.0263, Gen Loss:  3221.6909, Val Loss:  6.7628, Accuracy:  0.7241, AUROC:  0.7604\n"
     ]
    },
    {
     "name": "stderr",
     "output_type": "stream",
     "text": [
      "Train: 100%|\u001b[34m██████████\u001b[0m| 266/266 [00:05<00:00, 53.05it/s]\n",
      "Validation: 100%|\u001b[32m██████████\u001b[0m| 17/17 [00:00<00:00, 171.02it/s]\n"
     ]
    },
    {
     "name": "stdout",
     "output_type": "stream",
     "text": [
      "Epoch 81/200, Disc Loss:  0.0253, Gen Loss:  3221.6909, Val Loss:  7.1731, Accuracy:  0.7278, AUROC:  0.7739\n"
     ]
    },
    {
     "name": "stderr",
     "output_type": "stream",
     "text": [
      "Train: 100%|\u001b[34m██████████\u001b[0m| 266/266 [00:05<00:00, 52.50it/s]\n",
      "Validation: 100%|\u001b[32m██████████\u001b[0m| 17/17 [00:00<00:00, 147.51it/s]\n"
     ]
    },
    {
     "name": "stdout",
     "output_type": "stream",
     "text": [
      "Epoch 82/200, Disc Loss:  0.0400, Gen Loss:  3221.6909, Val Loss:  6.8817, Accuracy:  0.7222, AUROC:  0.7781\n"
     ]
    },
    {
     "name": "stderr",
     "output_type": "stream",
     "text": [
      "Train: 100%|\u001b[34m██████████\u001b[0m| 266/266 [00:05<00:00, 51.81it/s]\n",
      "Validation: 100%|\u001b[32m██████████\u001b[0m| 17/17 [00:00<00:00, 146.19it/s]\n"
     ]
    },
    {
     "name": "stdout",
     "output_type": "stream",
     "text": [
      "Epoch 83/200, Disc Loss:  0.0353, Gen Loss:  3221.6909, Val Loss:  7.5500, Accuracy:  0.7278, AUROC:  0.7735\n"
     ]
    },
    {
     "name": "stderr",
     "output_type": "stream",
     "text": [
      "Train: 100%|\u001b[34m██████████\u001b[0m| 266/266 [00:05<00:00, 52.20it/s]\n",
      "Validation: 100%|\u001b[32m██████████\u001b[0m| 17/17 [00:00<00:00, 188.92it/s]\n"
     ]
    },
    {
     "name": "stdout",
     "output_type": "stream",
     "text": [
      "Epoch 84/200, Disc Loss:  0.0437, Gen Loss:  3221.6909, Val Loss:  8.6444, Accuracy:  0.7296, AUROC:  0.7571\n"
     ]
    },
    {
     "name": "stderr",
     "output_type": "stream",
     "text": [
      "Train: 100%|\u001b[34m██████████\u001b[0m| 266/266 [00:05<00:00, 52.70it/s]\n",
      "Validation: 100%|\u001b[32m██████████\u001b[0m| 17/17 [00:00<00:00, 143.61it/s]\n"
     ]
    },
    {
     "name": "stdout",
     "output_type": "stream",
     "text": [
      "Epoch 85/200, Disc Loss:  0.0394, Gen Loss:  3221.6909, Val Loss:  9.6022, Accuracy:  0.7222, AUROC:  0.7674\n"
     ]
    },
    {
     "name": "stderr",
     "output_type": "stream",
     "text": [
      "Train: 100%|\u001b[34m██████████\u001b[0m| 266/266 [00:05<00:00, 51.66it/s]\n",
      "Validation: 100%|\u001b[32m██████████\u001b[0m| 17/17 [00:00<00:00, 150.18it/s]\n"
     ]
    },
    {
     "name": "stdout",
     "output_type": "stream",
     "text": [
      "Epoch 86/200, Disc Loss:  0.0367, Gen Loss:  3221.6909, Val Loss:  8.1357, Accuracy:  0.7019, AUROC:  0.7655\n"
     ]
    },
    {
     "name": "stderr",
     "output_type": "stream",
     "text": [
      "Train: 100%|\u001b[34m██████████\u001b[0m| 266/266 [00:05<00:00, 52.33it/s]\n",
      "Validation: 100%|\u001b[32m██████████\u001b[0m| 17/17 [00:00<00:00, 172.77it/s]\n"
     ]
    },
    {
     "name": "stdout",
     "output_type": "stream",
     "text": [
      "Epoch 87/200, Disc Loss:  0.0289, Gen Loss:  3221.6909, Val Loss:  8.2518, Accuracy:  0.7241, AUROC:  0.7589\n"
     ]
    },
    {
     "name": "stderr",
     "output_type": "stream",
     "text": [
      "Train: 100%|\u001b[34m██████████\u001b[0m| 266/266 [00:05<00:00, 52.32it/s]\n",
      "Validation: 100%|\u001b[32m██████████\u001b[0m| 17/17 [00:00<00:00, 124.33it/s]\n"
     ]
    },
    {
     "name": "stdout",
     "output_type": "stream",
     "text": [
      "Epoch 88/200, Disc Loss:  0.0220, Gen Loss:  3221.6909, Val Loss:  8.5342, Accuracy:  0.7204, AUROC:  0.7781\n"
     ]
    },
    {
     "name": "stderr",
     "output_type": "stream",
     "text": [
      "Train: 100%|\u001b[34m██████████\u001b[0m| 266/266 [00:05<00:00, 51.65it/s]\n",
      "Validation: 100%|\u001b[32m██████████\u001b[0m| 17/17 [00:00<00:00, 72.98it/s]\n"
     ]
    },
    {
     "name": "stdout",
     "output_type": "stream",
     "text": [
      "Epoch 89/200, Disc Loss:  0.0195, Gen Loss:  3221.6909, Val Loss:  10.5133, Accuracy:  0.7352, AUROC:  0.7765\n"
     ]
    },
    {
     "name": "stderr",
     "output_type": "stream",
     "text": [
      "Train: 100%|\u001b[34m██████████\u001b[0m| 266/266 [00:04<00:00, 53.66it/s]\n",
      "Validation: 100%|\u001b[32m██████████\u001b[0m| 17/17 [00:00<00:00, 192.51it/s]\n"
     ]
    },
    {
     "name": "stdout",
     "output_type": "stream",
     "text": [
      "Epoch 90/200, Disc Loss:  0.0445, Gen Loss:  3221.6909, Val Loss:  9.6899, Accuracy:  0.7333, AUROC:  0.7758\n"
     ]
    },
    {
     "name": "stderr",
     "output_type": "stream",
     "text": [
      "Train: 100%|\u001b[34m██████████\u001b[0m| 266/266 [00:05<00:00, 53.18it/s]\n",
      "Validation: 100%|\u001b[32m██████████\u001b[0m| 17/17 [00:00<00:00, 89.20it/s]\n"
     ]
    },
    {
     "name": "stdout",
     "output_type": "stream",
     "text": [
      "Epoch 91/200, Disc Loss:  0.0282, Gen Loss:  3221.6909, Val Loss:  11.5608, Accuracy:  0.7296, AUROC:  0.7710\n"
     ]
    },
    {
     "name": "stderr",
     "output_type": "stream",
     "text": [
      "Train: 100%|\u001b[34m██████████\u001b[0m| 266/266 [00:04<00:00, 53.38it/s]\n",
      "Validation: 100%|\u001b[32m██████████\u001b[0m| 17/17 [00:00<00:00, 78.49it/s]\n"
     ]
    },
    {
     "name": "stdout",
     "output_type": "stream",
     "text": [
      "Epoch 92/200, Disc Loss:  0.0267, Gen Loss:  3221.6909, Val Loss:  13.9515, Accuracy:  0.7222, AUROC:  0.7668\n"
     ]
    },
    {
     "name": "stderr",
     "output_type": "stream",
     "text": [
      "Train: 100%|\u001b[34m██████████\u001b[0m| 266/266 [00:05<00:00, 52.60it/s]\n",
      "Validation: 100%|\u001b[32m██████████\u001b[0m| 17/17 [00:00<00:00, 94.40it/s]\n"
     ]
    },
    {
     "name": "stdout",
     "output_type": "stream",
     "text": [
      "Epoch 93/200, Disc Loss:  0.0389, Gen Loss:  3221.6909, Val Loss:  6.4664, Accuracy:  0.7333, AUROC:  0.7762\n"
     ]
    },
    {
     "name": "stderr",
     "output_type": "stream",
     "text": [
      "Train: 100%|\u001b[34m██████████\u001b[0m| 266/266 [00:05<00:00, 52.15it/s]\n",
      "Validation: 100%|\u001b[32m██████████\u001b[0m| 17/17 [00:00<00:00, 149.74it/s]\n"
     ]
    },
    {
     "name": "stdout",
     "output_type": "stream",
     "text": [
      "Epoch 94/200, Disc Loss:  0.0552, Gen Loss:  3221.6909, Val Loss:  7.7581, Accuracy:  0.7241, AUROC:  0.7805\n"
     ]
    },
    {
     "name": "stderr",
     "output_type": "stream",
     "text": [
      "Train: 100%|\u001b[34m██████████\u001b[0m| 266/266 [00:05<00:00, 51.48it/s]\n",
      "Validation: 100%|\u001b[32m██████████\u001b[0m| 17/17 [00:00<00:00, 148.05it/s]\n"
     ]
    },
    {
     "name": "stdout",
     "output_type": "stream",
     "text": [
      "Epoch 95/200, Disc Loss:  0.0225, Gen Loss:  3221.6909, Val Loss:  9.1374, Accuracy:  0.7278, AUROC:  0.7768\n"
     ]
    },
    {
     "name": "stderr",
     "output_type": "stream",
     "text": [
      "Train: 100%|\u001b[34m██████████\u001b[0m| 266/266 [00:05<00:00, 52.17it/s]\n",
      "Validation: 100%|\u001b[32m██████████\u001b[0m| 17/17 [00:00<00:00, 134.77it/s]\n"
     ]
    },
    {
     "name": "stdout",
     "output_type": "stream",
     "text": [
      "Epoch 96/200, Disc Loss:  0.0098, Gen Loss:  3221.6909, Val Loss:  9.1545, Accuracy:  0.7352, AUROC:  0.7720\n"
     ]
    },
    {
     "name": "stderr",
     "output_type": "stream",
     "text": [
      "Train: 100%|\u001b[34m██████████\u001b[0m| 266/266 [00:05<00:00, 51.64it/s]\n",
      "Validation: 100%|\u001b[32m██████████\u001b[0m| 17/17 [00:00<00:00, 170.12it/s]\n"
     ]
    },
    {
     "name": "stdout",
     "output_type": "stream",
     "text": [
      "Epoch 97/200, Disc Loss:  0.0346, Gen Loss:  3221.6909, Val Loss:  8.2516, Accuracy:  0.7241, AUROC:  0.7488\n"
     ]
    },
    {
     "name": "stderr",
     "output_type": "stream",
     "text": [
      "Train: 100%|\u001b[34m██████████\u001b[0m| 266/266 [00:05<00:00, 51.67it/s]\n",
      "Validation: 100%|\u001b[32m██████████\u001b[0m| 17/17 [00:00<00:00, 126.25it/s]\n"
     ]
    },
    {
     "name": "stdout",
     "output_type": "stream",
     "text": [
      "Epoch 98/200, Disc Loss:  0.0324, Gen Loss:  3221.6909, Val Loss:  8.0154, Accuracy:  0.7315, AUROC:  0.7778\n"
     ]
    },
    {
     "name": "stderr",
     "output_type": "stream",
     "text": [
      "Train: 100%|\u001b[34m██████████\u001b[0m| 266/266 [00:05<00:00, 50.84it/s]\n",
      "Validation: 100%|\u001b[32m██████████\u001b[0m| 17/17 [00:00<00:00, 141.53it/s]\n"
     ]
    },
    {
     "name": "stdout",
     "output_type": "stream",
     "text": [
      "Epoch 99/200, Disc Loss:  0.0242, Gen Loss:  3221.6909, Val Loss:  8.2450, Accuracy:  0.7296, AUROC:  0.7676\n"
     ]
    },
    {
     "name": "stderr",
     "output_type": "stream",
     "text": [
      "Train: 100%|\u001b[34m██████████\u001b[0m| 266/266 [00:05<00:00, 51.89it/s]\n",
      "Validation: 100%|\u001b[32m██████████\u001b[0m| 17/17 [00:00<00:00, 143.95it/s]\n"
     ]
    },
    {
     "name": "stdout",
     "output_type": "stream",
     "text": [
      "Epoch 100/200, Disc Loss:  0.0190, Gen Loss:  3221.6909, Val Loss:  9.4271, Accuracy:  0.7185, AUROC:  0.7583\n"
     ]
    },
    {
     "name": "stderr",
     "output_type": "stream",
     "text": [
      "Train: 100%|\u001b[34m██████████\u001b[0m| 266/266 [00:05<00:00, 52.66it/s]\n",
      "Validation: 100%|\u001b[32m██████████\u001b[0m| 17/17 [00:00<00:00, 148.31it/s]\n"
     ]
    },
    {
     "name": "stdout",
     "output_type": "stream",
     "text": [
      "Epoch 101/200, Disc Loss:  0.0299, Gen Loss:  3221.6909, Val Loss:  8.7819, Accuracy:  0.7278, AUROC:  0.7625\n"
     ]
    },
    {
     "name": "stderr",
     "output_type": "stream",
     "text": [
      "Train: 100%|\u001b[34m██████████\u001b[0m| 266/266 [00:05<00:00, 52.67it/s]\n",
      "Validation: 100%|\u001b[32m██████████\u001b[0m| 17/17 [00:00<00:00, 145.72it/s]\n"
     ]
    },
    {
     "name": "stdout",
     "output_type": "stream",
     "text": [
      "Epoch 102/200, Disc Loss:  0.0607, Gen Loss:  3221.6909, Val Loss:  9.4353, Accuracy:  0.7370, AUROC:  0.7792\n"
     ]
    },
    {
     "name": "stderr",
     "output_type": "stream",
     "text": [
      "Train: 100%|\u001b[34m██████████\u001b[0m| 266/266 [00:05<00:00, 51.64it/s]\n",
      "Validation: 100%|\u001b[32m██████████\u001b[0m| 17/17 [00:00<00:00, 123.65it/s]\n"
     ]
    },
    {
     "name": "stdout",
     "output_type": "stream",
     "text": [
      "Epoch 103/200, Disc Loss:  0.0263, Gen Loss:  3221.6909, Val Loss:  12.7354, Accuracy:  0.7352, AUROC:  0.7718\n"
     ]
    },
    {
     "name": "stderr",
     "output_type": "stream",
     "text": [
      "Train: 100%|\u001b[34m██████████\u001b[0m| 266/266 [00:05<00:00, 52.13it/s]\n",
      "Validation: 100%|\u001b[32m██████████\u001b[0m| 17/17 [00:00<00:00, 150.14it/s]\n"
     ]
    },
    {
     "name": "stdout",
     "output_type": "stream",
     "text": [
      "Epoch 104/200, Disc Loss:  0.0276, Gen Loss:  3221.6909, Val Loss:  10.8963, Accuracy:  0.7278, AUROC:  0.7601\n"
     ]
    },
    {
     "name": "stderr",
     "output_type": "stream",
     "text": [
      "Train: 100%|\u001b[34m██████████\u001b[0m| 266/266 [00:05<00:00, 52.35it/s]\n",
      "Validation: 100%|\u001b[32m██████████\u001b[0m| 17/17 [00:00<00:00, 170.06it/s]\n"
     ]
    },
    {
     "name": "stdout",
     "output_type": "stream",
     "text": [
      "Epoch 105/200, Disc Loss:  0.0378, Gen Loss:  3221.6909, Val Loss:  13.4627, Accuracy:  0.7278, AUROC:  0.7722\n"
     ]
    },
    {
     "name": "stderr",
     "output_type": "stream",
     "text": [
      "Train: 100%|\u001b[34m██████████\u001b[0m| 266/266 [00:05<00:00, 51.48it/s]\n",
      "Validation: 100%|\u001b[32m██████████\u001b[0m| 17/17 [00:00<00:00, 138.55it/s]\n"
     ]
    },
    {
     "name": "stdout",
     "output_type": "stream",
     "text": [
      "Epoch 106/200, Disc Loss:  0.0194, Gen Loss:  3221.6909, Val Loss:  10.4482, Accuracy:  0.7370, AUROC:  0.7725\n"
     ]
    },
    {
     "name": "stderr",
     "output_type": "stream",
     "text": [
      "Train: 100%|\u001b[34m██████████\u001b[0m| 266/266 [00:05<00:00, 51.64it/s]\n",
      "Validation: 100%|\u001b[32m██████████\u001b[0m| 17/17 [00:00<00:00, 145.87it/s]\n"
     ]
    },
    {
     "name": "stdout",
     "output_type": "stream",
     "text": [
      "Epoch 107/200, Disc Loss:  0.0260, Gen Loss:  3221.6909, Val Loss:  12.4707, Accuracy:  0.7333, AUROC:  0.7634\n"
     ]
    },
    {
     "name": "stderr",
     "output_type": "stream",
     "text": [
      "Train: 100%|\u001b[34m██████████\u001b[0m| 266/266 [00:05<00:00, 53.08it/s]\n",
      "Validation: 100%|\u001b[32m██████████\u001b[0m| 17/17 [00:00<00:00, 168.18it/s]\n"
     ]
    },
    {
     "name": "stdout",
     "output_type": "stream",
     "text": [
      "Epoch 108/200, Disc Loss:  0.0427, Gen Loss:  3221.6909, Val Loss:  9.9893, Accuracy:  0.7500, AUROC:  0.7709\n"
     ]
    },
    {
     "name": "stderr",
     "output_type": "stream",
     "text": [
      "Train: 100%|\u001b[34m██████████\u001b[0m| 266/266 [00:05<00:00, 52.60it/s]\n",
      "Validation: 100%|\u001b[32m██████████\u001b[0m| 17/17 [00:00<00:00, 136.26it/s]\n"
     ]
    },
    {
     "name": "stdout",
     "output_type": "stream",
     "text": [
      "Epoch 109/200, Disc Loss:  0.0487, Gen Loss:  3221.6909, Val Loss:  10.4915, Accuracy:  0.7352, AUROC:  0.7831\n"
     ]
    },
    {
     "name": "stderr",
     "output_type": "stream",
     "text": [
      "Train: 100%|\u001b[34m██████████\u001b[0m| 266/266 [00:05<00:00, 52.79it/s]\n",
      "Validation: 100%|\u001b[32m██████████\u001b[0m| 17/17 [00:00<00:00, 151.96it/s]\n"
     ]
    },
    {
     "name": "stdout",
     "output_type": "stream",
     "text": [
      "Epoch 110/200, Disc Loss:  0.0181, Gen Loss:  3221.6909, Val Loss:  11.2394, Accuracy:  0.7333, AUROC:  0.7810\n"
     ]
    },
    {
     "name": "stderr",
     "output_type": "stream",
     "text": [
      "Train: 100%|\u001b[34m██████████\u001b[0m| 266/266 [00:05<00:00, 52.73it/s]\n",
      "Validation: 100%|\u001b[32m██████████\u001b[0m| 17/17 [00:00<00:00, 151.14it/s]\n"
     ]
    },
    {
     "name": "stdout",
     "output_type": "stream",
     "text": [
      "Epoch 111/200, Disc Loss:  0.0180, Gen Loss:  3221.6909, Val Loss:  11.6182, Accuracy:  0.7278, AUROC:  0.7721\n"
     ]
    },
    {
     "name": "stderr",
     "output_type": "stream",
     "text": [
      "Train: 100%|\u001b[34m██████████\u001b[0m| 266/266 [00:05<00:00, 52.15it/s]\n",
      "Validation: 100%|\u001b[32m██████████\u001b[0m| 17/17 [00:00<00:00, 170.46it/s]\n"
     ]
    },
    {
     "name": "stdout",
     "output_type": "stream",
     "text": [
      "Epoch 112/200, Disc Loss:  0.0329, Gen Loss:  3221.6909, Val Loss:  15.1823, Accuracy:  0.7278, AUROC:  0.7735\n"
     ]
    },
    {
     "name": "stderr",
     "output_type": "stream",
     "text": [
      "Train: 100%|\u001b[34m██████████\u001b[0m| 266/266 [00:05<00:00, 51.48it/s]\n",
      "Validation: 100%|\u001b[32m██████████\u001b[0m| 17/17 [00:00<00:00, 145.94it/s]\n"
     ]
    },
    {
     "name": "stdout",
     "output_type": "stream",
     "text": [
      "Epoch 113/200, Disc Loss:  0.0332, Gen Loss:  3221.6909, Val Loss:  10.7923, Accuracy:  0.7222, AUROC:  0.7763\n"
     ]
    },
    {
     "name": "stderr",
     "output_type": "stream",
     "text": [
      "Train: 100%|\u001b[34m██████████\u001b[0m| 266/266 [00:05<00:00, 52.61it/s]\n",
      "Validation: 100%|\u001b[32m██████████\u001b[0m| 17/17 [00:00<00:00, 170.26it/s]\n"
     ]
    },
    {
     "name": "stdout",
     "output_type": "stream",
     "text": [
      "Epoch 114/200, Disc Loss:  0.0247, Gen Loss:  3221.6909, Val Loss:  10.9926, Accuracy:  0.7278, AUROC:  0.7752\n"
     ]
    },
    {
     "name": "stderr",
     "output_type": "stream",
     "text": [
      "Train: 100%|\u001b[34m██████████\u001b[0m| 266/266 [00:05<00:00, 51.15it/s]\n",
      "Validation: 100%|\u001b[32m██████████\u001b[0m| 17/17 [00:00<00:00, 146.22it/s]\n"
     ]
    },
    {
     "name": "stdout",
     "output_type": "stream",
     "text": [
      "Epoch 115/200, Disc Loss:  0.0180, Gen Loss:  3221.6909, Val Loss:  8.2380, Accuracy:  0.7204, AUROC:  0.7725\n"
     ]
    },
    {
     "name": "stderr",
     "output_type": "stream",
     "text": [
      "Train: 100%|\u001b[34m██████████\u001b[0m| 266/266 [00:05<00:00, 52.59it/s]\n",
      "Validation: 100%|\u001b[32m██████████\u001b[0m| 17/17 [00:00<00:00, 169.65it/s]\n"
     ]
    },
    {
     "name": "stdout",
     "output_type": "stream",
     "text": [
      "Epoch 116/200, Disc Loss:  0.0137, Gen Loss:  3221.6909, Val Loss:  8.6116, Accuracy:  0.7333, AUROC:  0.7691\n"
     ]
    },
    {
     "name": "stderr",
     "output_type": "stream",
     "text": [
      "Train: 100%|\u001b[34m██████████\u001b[0m| 266/266 [00:05<00:00, 52.67it/s]\n",
      "Validation: 100%|\u001b[32m██████████\u001b[0m| 17/17 [00:00<00:00, 108.45it/s]\n"
     ]
    },
    {
     "name": "stdout",
     "output_type": "stream",
     "text": [
      "Epoch 117/200, Disc Loss:  0.0315, Gen Loss:  3221.6909, Val Loss:  13.1101, Accuracy:  0.7352, AUROC:  0.7782\n"
     ]
    },
    {
     "name": "stderr",
     "output_type": "stream",
     "text": [
      "Train: 100%|\u001b[34m██████████\u001b[0m| 266/266 [00:05<00:00, 51.45it/s]\n",
      "Validation: 100%|\u001b[32m██████████\u001b[0m| 17/17 [00:00<00:00, 159.29it/s]\n"
     ]
    },
    {
     "name": "stdout",
     "output_type": "stream",
     "text": [
      "Epoch 118/200, Disc Loss:  0.0169, Gen Loss:  3221.6909, Val Loss:  11.0357, Accuracy:  0.7407, AUROC:  0.7793\n"
     ]
    },
    {
     "name": "stderr",
     "output_type": "stream",
     "text": [
      "Train: 100%|\u001b[34m██████████\u001b[0m| 266/266 [00:05<00:00, 52.30it/s]\n",
      "Validation: 100%|\u001b[32m██████████\u001b[0m| 17/17 [00:00<00:00, 192.63it/s]\n"
     ]
    },
    {
     "name": "stdout",
     "output_type": "stream",
     "text": [
      "Epoch 119/200, Disc Loss:  0.0307, Gen Loss:  3221.6909, Val Loss:  12.3659, Accuracy:  0.7389, AUROC:  0.7822\n"
     ]
    },
    {
     "name": "stderr",
     "output_type": "stream",
     "text": [
      "Train: 100%|\u001b[34m██████████\u001b[0m| 266/266 [00:05<00:00, 51.78it/s]\n",
      "Validation: 100%|\u001b[32m██████████\u001b[0m| 17/17 [00:00<00:00, 164.95it/s]\n"
     ]
    },
    {
     "name": "stdout",
     "output_type": "stream",
     "text": [
      "Epoch 120/200, Disc Loss:  0.0342, Gen Loss:  3221.6909, Val Loss:  15.5806, Accuracy:  0.7259, AUROC:  0.7762\n"
     ]
    },
    {
     "name": "stderr",
     "output_type": "stream",
     "text": [
      "Train: 100%|\u001b[34m██████████\u001b[0m| 266/266 [00:05<00:00, 52.59it/s]\n",
      "Validation: 100%|\u001b[32m██████████\u001b[0m| 17/17 [00:00<00:00, 181.82it/s]\n"
     ]
    },
    {
     "name": "stdout",
     "output_type": "stream",
     "text": [
      "Epoch 121/200, Disc Loss:  0.0207, Gen Loss:  3221.6909, Val Loss:  12.5589, Accuracy:  0.7093, AUROC:  0.7690\n"
     ]
    },
    {
     "name": "stderr",
     "output_type": "stream",
     "text": [
      "Train: 100%|\u001b[34m██████████\u001b[0m| 266/266 [00:05<00:00, 51.32it/s]\n",
      "Validation: 100%|\u001b[32m██████████\u001b[0m| 17/17 [00:00<00:00, 143.81it/s]\n"
     ]
    },
    {
     "name": "stdout",
     "output_type": "stream",
     "text": [
      "Epoch 122/200, Disc Loss:  0.0187, Gen Loss:  3221.6909, Val Loss:  13.3402, Accuracy:  0.7241, AUROC:  0.7652\n"
     ]
    },
    {
     "name": "stderr",
     "output_type": "stream",
     "text": [
      "Train: 100%|\u001b[34m██████████\u001b[0m| 266/266 [00:05<00:00, 51.15it/s]\n",
      "Validation: 100%|\u001b[32m██████████\u001b[0m| 17/17 [00:00<00:00, 170.82it/s]\n"
     ]
    },
    {
     "name": "stdout",
     "output_type": "stream",
     "text": [
      "Epoch 123/200, Disc Loss:  0.0189, Gen Loss:  3221.6909, Val Loss:  17.4824, Accuracy:  0.7333, AUROC:  0.7630\n"
     ]
    },
    {
     "name": "stderr",
     "output_type": "stream",
     "text": [
      "Train: 100%|\u001b[34m██████████\u001b[0m| 266/266 [00:05<00:00, 52.67it/s]\n",
      "Validation: 100%|\u001b[32m██████████\u001b[0m| 17/17 [00:00<00:00, 166.01it/s]\n"
     ]
    },
    {
     "name": "stdout",
     "output_type": "stream",
     "text": [
      "Epoch 124/200, Disc Loss:  0.0408, Gen Loss:  3221.6909, Val Loss:  21.3389, Accuracy:  0.7370, AUROC:  0.7617\n"
     ]
    },
    {
     "name": "stderr",
     "output_type": "stream",
     "text": [
      "Train: 100%|\u001b[34m██████████\u001b[0m| 266/266 [00:05<00:00, 47.41it/s]\n",
      "Validation: 100%|\u001b[32m██████████\u001b[0m| 17/17 [00:00<00:00, 134.08it/s]\n"
     ]
    },
    {
     "name": "stdout",
     "output_type": "stream",
     "text": [
      "Epoch 125/200, Disc Loss:  0.0233, Gen Loss:  3221.6909, Val Loss:  20.3795, Accuracy:  0.7315, AUROC:  0.7710\n"
     ]
    },
    {
     "name": "stderr",
     "output_type": "stream",
     "text": [
      "Train: 100%|\u001b[34m██████████\u001b[0m| 266/266 [00:05<00:00, 45.27it/s]\n",
      "Validation: 100%|\u001b[32m██████████\u001b[0m| 17/17 [00:00<00:00, 105.61it/s]\n"
     ]
    },
    {
     "name": "stdout",
     "output_type": "stream",
     "text": [
      "Epoch 126/200, Disc Loss:  0.0384, Gen Loss:  3221.6909, Val Loss:  25.0527, Accuracy:  0.7222, AUROC:  0.7539\n"
     ]
    },
    {
     "name": "stderr",
     "output_type": "stream",
     "text": [
      "Train: 100%|\u001b[34m██████████\u001b[0m| 266/266 [00:05<00:00, 44.67it/s]\n",
      "Validation: 100%|\u001b[32m██████████\u001b[0m| 17/17 [00:00<00:00, 94.26it/s]\n"
     ]
    },
    {
     "name": "stdout",
     "output_type": "stream",
     "text": [
      "Epoch 127/200, Disc Loss:  0.0129, Gen Loss:  3221.6909, Val Loss:  20.9839, Accuracy:  0.7315, AUROC:  0.7614\n"
     ]
    },
    {
     "name": "stderr",
     "output_type": "stream",
     "text": [
      "Train: 100%|\u001b[34m██████████\u001b[0m| 266/266 [00:05<00:00, 46.89it/s]\n",
      "Validation: 100%|\u001b[32m██████████\u001b[0m| 17/17 [00:00<00:00, 120.77it/s]\n"
     ]
    },
    {
     "name": "stdout",
     "output_type": "stream",
     "text": [
      "Epoch 128/200, Disc Loss:  0.0624, Gen Loss:  3221.6909, Val Loss:  23.7636, Accuracy:  0.7204, AUROC:  0.7637\n"
     ]
    },
    {
     "name": "stderr",
     "output_type": "stream",
     "text": [
      "Train: 100%|\u001b[34m██████████\u001b[0m| 266/266 [00:05<00:00, 47.13it/s]\n",
      "Validation: 100%|\u001b[32m██████████\u001b[0m| 17/17 [00:00<00:00, 61.90it/s]\n"
     ]
    },
    {
     "name": "stdout",
     "output_type": "stream",
     "text": [
      "Epoch 129/200, Disc Loss:  0.0190, Gen Loss:  3221.6909, Val Loss:  25.3040, Accuracy:  0.7407, AUROC:  0.7719\n"
     ]
    },
    {
     "name": "stderr",
     "output_type": "stream",
     "text": [
      "Train: 100%|\u001b[34m██████████\u001b[0m| 266/266 [00:05<00:00, 46.08it/s]\n",
      "Validation: 100%|\u001b[32m██████████\u001b[0m| 17/17 [00:00<00:00, 147.58it/s]\n"
     ]
    },
    {
     "name": "stdout",
     "output_type": "stream",
     "text": [
      "Epoch 130/200, Disc Loss:  0.0196, Gen Loss:  3221.6909, Val Loss:  26.4065, Accuracy:  0.7315, AUROC:  0.7578\n"
     ]
    },
    {
     "name": "stderr",
     "output_type": "stream",
     "text": [
      "Train: 100%|\u001b[34m██████████\u001b[0m| 266/266 [00:06<00:00, 42.50it/s]\n",
      "Validation: 100%|\u001b[32m██████████\u001b[0m| 17/17 [00:00<00:00, 112.73it/s]\n"
     ]
    },
    {
     "name": "stdout",
     "output_type": "stream",
     "text": [
      "Epoch 131/200, Disc Loss:  0.0243, Gen Loss:  3221.6909, Val Loss:  24.9869, Accuracy:  0.7389, AUROC:  0.7571\n"
     ]
    },
    {
     "name": "stderr",
     "output_type": "stream",
     "text": [
      "Train: 100%|\u001b[34m██████████\u001b[0m| 266/266 [00:06<00:00, 40.71it/s]\n",
      "Validation: 100%|\u001b[32m██████████\u001b[0m| 17/17 [00:00<00:00, 102.47it/s]\n"
     ]
    },
    {
     "name": "stdout",
     "output_type": "stream",
     "text": [
      "Epoch 132/200, Disc Loss:  0.0595, Gen Loss:  3221.6909, Val Loss:  28.3568, Accuracy:  0.7370, AUROC:  0.7711\n"
     ]
    },
    {
     "name": "stderr",
     "output_type": "stream",
     "text": [
      "Train: 100%|\u001b[34m██████████\u001b[0m| 266/266 [00:06<00:00, 41.84it/s]\n",
      "Validation: 100%|\u001b[32m██████████\u001b[0m| 17/17 [00:00<00:00, 146.29it/s]\n"
     ]
    },
    {
     "name": "stdout",
     "output_type": "stream",
     "text": [
      "Epoch 133/200, Disc Loss:  0.0062, Gen Loss:  3221.6909, Val Loss:  24.1185, Accuracy:  0.7259, AUROC:  0.7674\n"
     ]
    },
    {
     "name": "stderr",
     "output_type": "stream",
     "text": [
      "Train: 100%|\u001b[34m██████████\u001b[0m| 266/266 [00:06<00:00, 39.95it/s]\n",
      "Validation: 100%|\u001b[32m██████████\u001b[0m| 17/17 [00:00<00:00, 114.56it/s]\n"
     ]
    },
    {
     "name": "stdout",
     "output_type": "stream",
     "text": [
      "Epoch 134/200, Disc Loss:  0.0246, Gen Loss:  3221.6909, Val Loss:  28.6028, Accuracy:  0.7259, AUROC:  0.7704\n"
     ]
    },
    {
     "name": "stderr",
     "output_type": "stream",
     "text": [
      "Train: 100%|\u001b[34m██████████\u001b[0m| 266/266 [00:05<00:00, 47.61it/s]\n",
      "Validation: 100%|\u001b[32m██████████\u001b[0m| 17/17 [00:00<00:00, 145.26it/s]\n"
     ]
    },
    {
     "name": "stdout",
     "output_type": "stream",
     "text": [
      "Epoch 135/200, Disc Loss:  0.0127, Gen Loss:  3221.6909, Val Loss:  27.0574, Accuracy:  0.7204, AUROC:  0.7711\n"
     ]
    },
    {
     "name": "stderr",
     "output_type": "stream",
     "text": [
      "Train: 100%|\u001b[34m██████████\u001b[0m| 266/266 [00:05<00:00, 51.29it/s]\n",
      "Validation: 100%|\u001b[32m██████████\u001b[0m| 17/17 [00:00<00:00, 149.30it/s]\n"
     ]
    },
    {
     "name": "stdout",
     "output_type": "stream",
     "text": [
      "Epoch 136/200, Disc Loss:  0.0287, Gen Loss:  3221.6909, Val Loss:  24.1119, Accuracy:  0.7370, AUROC:  0.7739\n"
     ]
    },
    {
     "name": "stderr",
     "output_type": "stream",
     "text": [
      "Train: 100%|\u001b[34m██████████\u001b[0m| 266/266 [00:05<00:00, 51.98it/s]\n",
      "Validation: 100%|\u001b[32m██████████\u001b[0m| 17/17 [00:00<00:00, 146.65it/s]\n"
     ]
    },
    {
     "name": "stdout",
     "output_type": "stream",
     "text": [
      "Epoch 137/200, Disc Loss:  0.0242, Gen Loss:  3221.6909, Val Loss:  21.7317, Accuracy:  0.7278, AUROC:  0.7805\n"
     ]
    },
    {
     "name": "stderr",
     "output_type": "stream",
     "text": [
      "Train: 100%|\u001b[34m██████████\u001b[0m| 266/266 [00:05<00:00, 48.75it/s]\n",
      "Validation: 100%|\u001b[32m██████████\u001b[0m| 17/17 [00:00<00:00, 126.59it/s]\n"
     ]
    },
    {
     "name": "stdout",
     "output_type": "stream",
     "text": [
      "Epoch 138/200, Disc Loss:  0.0316, Gen Loss:  3221.6909, Val Loss:  24.3056, Accuracy:  0.7315, AUROC:  0.7742\n"
     ]
    },
    {
     "name": "stderr",
     "output_type": "stream",
     "text": [
      "Train: 100%|\u001b[34m██████████\u001b[0m| 266/266 [00:05<00:00, 50.64it/s]\n",
      "Validation: 100%|\u001b[32m██████████\u001b[0m| 17/17 [00:00<00:00, 162.67it/s]\n"
     ]
    },
    {
     "name": "stdout",
     "output_type": "stream",
     "text": [
      "Epoch 139/200, Disc Loss:  0.0161, Gen Loss:  3221.6909, Val Loss:  27.7401, Accuracy:  0.7222, AUROC:  0.7580\n"
     ]
    },
    {
     "name": "stderr",
     "output_type": "stream",
     "text": [
      "Train: 100%|\u001b[34m██████████\u001b[0m| 266/266 [00:05<00:00, 51.06it/s]\n",
      "Validation: 100%|\u001b[32m██████████\u001b[0m| 17/17 [00:00<00:00, 126.41it/s]\n"
     ]
    },
    {
     "name": "stdout",
     "output_type": "stream",
     "text": [
      "Epoch 140/200, Disc Loss:  0.0728, Gen Loss:  3221.6909, Val Loss:  22.3343, Accuracy:  0.7315, AUROC:  0.7715\n"
     ]
    },
    {
     "name": "stderr",
     "output_type": "stream",
     "text": [
      "Train: 100%|\u001b[34m██████████\u001b[0m| 266/266 [00:05<00:00, 50.41it/s]\n",
      "Validation: 100%|\u001b[32m██████████\u001b[0m| 17/17 [00:00<00:00, 151.95it/s]\n"
     ]
    },
    {
     "name": "stdout",
     "output_type": "stream",
     "text": [
      "Epoch 141/200, Disc Loss:  0.0213, Gen Loss:  3221.6909, Val Loss:  16.7602, Accuracy:  0.7296, AUROC:  0.7686\n"
     ]
    },
    {
     "name": "stderr",
     "output_type": "stream",
     "text": [
      "Train: 100%|\u001b[34m██████████\u001b[0m| 266/266 [00:05<00:00, 49.71it/s]\n",
      "Validation: 100%|\u001b[32m██████████\u001b[0m| 17/17 [00:00<00:00, 145.86it/s]\n"
     ]
    },
    {
     "name": "stdout",
     "output_type": "stream",
     "text": [
      "Epoch 142/200, Disc Loss:  0.0167, Gen Loss:  3221.6909, Val Loss:  22.7588, Accuracy:  0.7352, AUROC:  0.7734\n"
     ]
    },
    {
     "name": "stderr",
     "output_type": "stream",
     "text": [
      "Train: 100%|\u001b[34m██████████\u001b[0m| 266/266 [00:05<00:00, 48.01it/s]\n",
      "Validation: 100%|\u001b[32m██████████\u001b[0m| 17/17 [00:00<00:00, 177.03it/s]\n"
     ]
    },
    {
     "name": "stdout",
     "output_type": "stream",
     "text": [
      "Epoch 143/200, Disc Loss:  0.0215, Gen Loss:  3221.6909, Val Loss:  29.3911, Accuracy:  0.7352, AUROC:  0.7661\n"
     ]
    },
    {
     "name": "stderr",
     "output_type": "stream",
     "text": [
      "Train: 100%|\u001b[34m██████████\u001b[0m| 266/266 [00:05<00:00, 51.18it/s]\n",
      "Validation: 100%|\u001b[32m██████████\u001b[0m| 17/17 [00:00<00:00, 108.97it/s]\n"
     ]
    },
    {
     "name": "stdout",
     "output_type": "stream",
     "text": [
      "Epoch 144/200, Disc Loss:  0.0469, Gen Loss:  3221.6909, Val Loss:  34.9069, Accuracy:  0.7352, AUROC:  0.7756\n"
     ]
    },
    {
     "name": "stderr",
     "output_type": "stream",
     "text": [
      "Train: 100%|\u001b[34m██████████\u001b[0m| 266/266 [00:05<00:00, 50.23it/s]\n",
      "Validation: 100%|\u001b[32m██████████\u001b[0m| 17/17 [00:00<00:00, 148.03it/s]\n"
     ]
    },
    {
     "name": "stdout",
     "output_type": "stream",
     "text": [
      "Epoch 145/200, Disc Loss:  0.0123, Gen Loss:  3221.6909, Val Loss:  30.4486, Accuracy:  0.7370, AUROC:  0.7804\n"
     ]
    },
    {
     "name": "stderr",
     "output_type": "stream",
     "text": [
      "Train: 100%|\u001b[34m██████████\u001b[0m| 266/266 [00:05<00:00, 50.80it/s]\n",
      "Validation: 100%|\u001b[32m██████████\u001b[0m| 17/17 [00:00<00:00, 147.87it/s]\n"
     ]
    },
    {
     "name": "stdout",
     "output_type": "stream",
     "text": [
      "Epoch 146/200, Disc Loss:  0.0168, Gen Loss:  3221.6909, Val Loss:  35.1019, Accuracy:  0.7333, AUROC:  0.7641\n"
     ]
    },
    {
     "name": "stderr",
     "output_type": "stream",
     "text": [
      "Train: 100%|\u001b[34m██████████\u001b[0m| 266/266 [00:05<00:00, 51.66it/s]\n",
      "Validation: 100%|\u001b[32m██████████\u001b[0m| 17/17 [00:00<00:00, 168.20it/s]\n"
     ]
    },
    {
     "name": "stdout",
     "output_type": "stream",
     "text": [
      "Epoch 147/200, Disc Loss:  0.0282, Gen Loss:  3221.6909, Val Loss:  40.5308, Accuracy:  0.7278, AUROC:  0.7686\n"
     ]
    },
    {
     "name": "stderr",
     "output_type": "stream",
     "text": [
      "Train: 100%|\u001b[34m██████████\u001b[0m| 266/266 [00:05<00:00, 52.05it/s]\n",
      "Validation: 100%|\u001b[32m██████████\u001b[0m| 17/17 [00:00<00:00, 165.45it/s]\n"
     ]
    },
    {
     "name": "stdout",
     "output_type": "stream",
     "text": [
      "Epoch 148/200, Disc Loss:  0.0116, Gen Loss:  3221.6909, Val Loss:  28.1835, Accuracy:  0.7333, AUROC:  0.7642\n"
     ]
    },
    {
     "name": "stderr",
     "output_type": "stream",
     "text": [
      "Train: 100%|\u001b[34m██████████\u001b[0m| 266/266 [00:05<00:00, 51.62it/s]\n",
      "Validation: 100%|\u001b[32m██████████\u001b[0m| 17/17 [00:00<00:00, 152.59it/s]\n"
     ]
    },
    {
     "name": "stdout",
     "output_type": "stream",
     "text": [
      "Epoch 149/200, Disc Loss:  0.0330, Gen Loss:  3221.6909, Val Loss:  35.5903, Accuracy:  0.7278, AUROC:  0.7560\n"
     ]
    },
    {
     "name": "stderr",
     "output_type": "stream",
     "text": [
      "Train: 100%|\u001b[34m██████████\u001b[0m| 266/266 [00:05<00:00, 52.14it/s]\n",
      "Validation: 100%|\u001b[32m██████████\u001b[0m| 17/17 [00:00<00:00, 153.13it/s]\n"
     ]
    },
    {
     "name": "stdout",
     "output_type": "stream",
     "text": [
      "Epoch 150/200, Disc Loss:  0.0353, Gen Loss:  3221.6909, Val Loss:  29.3814, Accuracy:  0.7204, AUROC:  0.7668\n"
     ]
    },
    {
     "name": "stderr",
     "output_type": "stream",
     "text": [
      "Train: 100%|\u001b[34m██████████\u001b[0m| 266/266 [00:05<00:00, 51.78it/s]\n",
      "Validation: 100%|\u001b[32m██████████\u001b[0m| 17/17 [00:00<00:00, 149.76it/s]\n"
     ]
    },
    {
     "name": "stdout",
     "output_type": "stream",
     "text": [
      "Epoch 151/200, Disc Loss:  0.0177, Gen Loss:  3221.6909, Val Loss:  31.7247, Accuracy:  0.7352, AUROC:  0.7760\n"
     ]
    },
    {
     "name": "stderr",
     "output_type": "stream",
     "text": [
      "Train: 100%|\u001b[34m██████████\u001b[0m| 266/266 [00:05<00:00, 52.22it/s]\n",
      "Validation: 100%|\u001b[32m██████████\u001b[0m| 17/17 [00:00<00:00, 173.56it/s]\n"
     ]
    },
    {
     "name": "stdout",
     "output_type": "stream",
     "text": [
      "Epoch 152/200, Disc Loss:  0.0656, Gen Loss:  3221.6909, Val Loss:  40.3004, Accuracy:  0.7222, AUROC:  0.7673\n"
     ]
    },
    {
     "name": "stderr",
     "output_type": "stream",
     "text": [
      "Train: 100%|\u001b[34m██████████\u001b[0m| 266/266 [00:05<00:00, 51.71it/s]\n",
      "Validation: 100%|\u001b[32m██████████\u001b[0m| 17/17 [00:00<00:00, 143.59it/s]\n"
     ]
    },
    {
     "name": "stdout",
     "output_type": "stream",
     "text": [
      "Epoch 153/200, Disc Loss:  0.0154, Gen Loss:  3221.6909, Val Loss:  37.9036, Accuracy:  0.7352, AUROC:  0.7619\n"
     ]
    },
    {
     "name": "stderr",
     "output_type": "stream",
     "text": [
      "Train: 100%|\u001b[34m██████████\u001b[0m| 266/266 [00:05<00:00, 50.49it/s]\n",
      "Validation: 100%|\u001b[32m██████████\u001b[0m| 17/17 [00:00<00:00, 182.32it/s]\n"
     ]
    },
    {
     "name": "stdout",
     "output_type": "stream",
     "text": [
      "Epoch 154/200, Disc Loss:  0.0392, Gen Loss:  3221.6909, Val Loss:  37.4777, Accuracy:  0.7296, AUROC:  0.7600\n"
     ]
    },
    {
     "name": "stderr",
     "output_type": "stream",
     "text": [
      "Train: 100%|\u001b[34m██████████\u001b[0m| 266/266 [00:05<00:00, 52.51it/s]\n",
      "Validation: 100%|\u001b[32m██████████\u001b[0m| 17/17 [00:00<00:00, 170.03it/s]\n"
     ]
    },
    {
     "name": "stdout",
     "output_type": "stream",
     "text": [
      "Epoch 155/200, Disc Loss:  0.0377, Gen Loss:  3221.6909, Val Loss:  45.6975, Accuracy:  0.7315, AUROC:  0.7611\n"
     ]
    },
    {
     "name": "stderr",
     "output_type": "stream",
     "text": [
      "Train: 100%|\u001b[34m██████████\u001b[0m| 266/266 [00:05<00:00, 52.38it/s]\n",
      "Validation: 100%|\u001b[32m██████████\u001b[0m| 17/17 [00:00<00:00, 172.44it/s]\n"
     ]
    },
    {
     "name": "stdout",
     "output_type": "stream",
     "text": [
      "Epoch 156/200, Disc Loss:  0.0157, Gen Loss:  3221.6909, Val Loss:  42.2128, Accuracy:  0.7204, AUROC:  0.7693\n"
     ]
    },
    {
     "name": "stderr",
     "output_type": "stream",
     "text": [
      "Train: 100%|\u001b[34m██████████\u001b[0m| 266/266 [00:05<00:00, 51.99it/s]\n",
      "Validation: 100%|\u001b[32m██████████\u001b[0m| 17/17 [00:00<00:00, 161.42it/s]\n"
     ]
    },
    {
     "name": "stdout",
     "output_type": "stream",
     "text": [
      "Epoch 157/200, Disc Loss:  0.0159, Gen Loss:  3221.6909, Val Loss:  36.0333, Accuracy:  0.7185, AUROC:  0.7648\n"
     ]
    },
    {
     "name": "stderr",
     "output_type": "stream",
     "text": [
      "Train: 100%|\u001b[34m██████████\u001b[0m| 266/266 [00:05<00:00, 52.14it/s]\n",
      "Validation: 100%|\u001b[32m██████████\u001b[0m| 17/17 [00:00<00:00, 170.19it/s]\n"
     ]
    },
    {
     "name": "stdout",
     "output_type": "stream",
     "text": [
      "Epoch 158/200, Disc Loss:  0.0257, Gen Loss:  3221.6909, Val Loss:  37.9075, Accuracy:  0.7407, AUROC:  0.7609\n"
     ]
    },
    {
     "name": "stderr",
     "output_type": "stream",
     "text": [
      "Train: 100%|\u001b[34m██████████\u001b[0m| 266/266 [00:05<00:00, 51.62it/s]\n",
      "Validation: 100%|\u001b[32m██████████\u001b[0m| 17/17 [00:00<00:00, 170.39it/s]\n"
     ]
    },
    {
     "name": "stdout",
     "output_type": "stream",
     "text": [
      "Epoch 159/200, Disc Loss:  0.0276, Gen Loss:  3221.6909, Val Loss:  31.0270, Accuracy:  0.7259, AUROC:  0.7587\n"
     ]
    },
    {
     "name": "stderr",
     "output_type": "stream",
     "text": [
      "Train: 100%|\u001b[34m██████████\u001b[0m| 266/266 [00:05<00:00, 51.98it/s]\n",
      "Validation: 100%|\u001b[32m██████████\u001b[0m| 17/17 [00:00<00:00, 130.35it/s]\n"
     ]
    },
    {
     "name": "stdout",
     "output_type": "stream",
     "text": [
      "Epoch 160/200, Disc Loss:  0.0135, Gen Loss:  3221.6909, Val Loss:  26.6285, Accuracy:  0.7315, AUROC:  0.7677\n"
     ]
    },
    {
     "name": "stderr",
     "output_type": "stream",
     "text": [
      "Train: 100%|\u001b[34m██████████\u001b[0m| 266/266 [00:05<00:00, 52.67it/s]\n",
      "Validation: 100%|\u001b[32m██████████\u001b[0m| 17/17 [00:00<00:00, 151.00it/s]\n"
     ]
    },
    {
     "name": "stdout",
     "output_type": "stream",
     "text": [
      "Epoch 161/200, Disc Loss:  0.0405, Gen Loss:  3221.6909, Val Loss:  31.3566, Accuracy:  0.7222, AUROC:  0.7604\n"
     ]
    },
    {
     "name": "stderr",
     "output_type": "stream",
     "text": [
      "Train: 100%|\u001b[34m██████████\u001b[0m| 266/266 [00:05<00:00, 52.37it/s]\n",
      "Validation: 100%|\u001b[32m██████████\u001b[0m| 17/17 [00:00<00:00, 182.96it/s]\n"
     ]
    },
    {
     "name": "stdout",
     "output_type": "stream",
     "text": [
      "Epoch 162/200, Disc Loss:  0.0153, Gen Loss:  3221.6909, Val Loss:  28.7555, Accuracy:  0.7315, AUROC:  0.7579\n"
     ]
    },
    {
     "name": "stderr",
     "output_type": "stream",
     "text": [
      "Train: 100%|\u001b[34m██████████\u001b[0m| 266/266 [00:05<00:00, 50.83it/s]\n",
      "Validation: 100%|\u001b[32m██████████\u001b[0m| 17/17 [00:00<00:00, 130.26it/s]\n"
     ]
    },
    {
     "name": "stdout",
     "output_type": "stream",
     "text": [
      "Epoch 163/200, Disc Loss:  0.0446, Gen Loss:  3221.6909, Val Loss:  35.1357, Accuracy:  0.7315, AUROC:  0.7562\n"
     ]
    },
    {
     "name": "stderr",
     "output_type": "stream",
     "text": [
      "Train: 100%|\u001b[34m██████████\u001b[0m| 266/266 [00:05<00:00, 52.23it/s]\n",
      "Validation: 100%|\u001b[32m██████████\u001b[0m| 17/17 [00:00<00:00, 140.35it/s]\n"
     ]
    },
    {
     "name": "stdout",
     "output_type": "stream",
     "text": [
      "Epoch 164/200, Disc Loss:  0.0154, Gen Loss:  3221.6909, Val Loss:  31.4578, Accuracy:  0.7352, AUROC:  0.7676\n"
     ]
    },
    {
     "name": "stderr",
     "output_type": "stream",
     "text": [
      "Train: 100%|\u001b[34m██████████\u001b[0m| 266/266 [00:05<00:00, 51.96it/s]\n",
      "Validation: 100%|\u001b[32m██████████\u001b[0m| 17/17 [00:00<00:00, 157.59it/s]\n"
     ]
    },
    {
     "name": "stdout",
     "output_type": "stream",
     "text": [
      "Epoch 165/200, Disc Loss:  0.0137, Gen Loss:  3221.6909, Val Loss:  29.6301, Accuracy:  0.7222, AUROC:  0.7481\n"
     ]
    },
    {
     "name": "stderr",
     "output_type": "stream",
     "text": [
      "Train: 100%|\u001b[34m██████████\u001b[0m| 266/266 [00:05<00:00, 52.63it/s]\n",
      "Validation: 100%|\u001b[32m██████████\u001b[0m| 17/17 [00:00<00:00, 178.18it/s]\n"
     ]
    },
    {
     "name": "stdout",
     "output_type": "stream",
     "text": [
      "Epoch 166/200, Disc Loss:  0.1290, Gen Loss:  3221.6909, Val Loss:  48.3881, Accuracy:  0.7278, AUROC:  0.7707\n"
     ]
    },
    {
     "name": "stderr",
     "output_type": "stream",
     "text": [
      "Train: 100%|\u001b[34m██████████\u001b[0m| 266/266 [00:05<00:00, 51.82it/s]\n",
      "Validation: 100%|\u001b[32m██████████\u001b[0m| 17/17 [00:00<00:00, 170.16it/s]\n"
     ]
    },
    {
     "name": "stdout",
     "output_type": "stream",
     "text": [
      "Epoch 167/200, Disc Loss:  0.0130, Gen Loss:  3221.6909, Val Loss:  54.4987, Accuracy:  0.7407, AUROC:  0.7686\n"
     ]
    },
    {
     "name": "stderr",
     "output_type": "stream",
     "text": [
      "Train: 100%|\u001b[34m██████████\u001b[0m| 266/266 [00:05<00:00, 52.09it/s]\n",
      "Validation: 100%|\u001b[32m██████████\u001b[0m| 17/17 [00:00<00:00, 177.31it/s]\n"
     ]
    },
    {
     "name": "stdout",
     "output_type": "stream",
     "text": [
      "Epoch 168/200, Disc Loss:  0.0052, Gen Loss:  3221.6909, Val Loss:  48.7264, Accuracy:  0.7278, AUROC:  0.7637\n"
     ]
    },
    {
     "name": "stderr",
     "output_type": "stream",
     "text": [
      "Train: 100%|\u001b[34m██████████\u001b[0m| 266/266 [00:05<00:00, 50.35it/s]\n",
      "Validation: 100%|\u001b[32m██████████\u001b[0m| 17/17 [00:00<00:00, 168.86it/s]\n"
     ]
    },
    {
     "name": "stdout",
     "output_type": "stream",
     "text": [
      "Epoch 169/200, Disc Loss:  0.0348, Gen Loss:  3221.6909, Val Loss:  49.3782, Accuracy:  0.7296, AUROC:  0.7702\n"
     ]
    },
    {
     "name": "stderr",
     "output_type": "stream",
     "text": [
      "Train: 100%|\u001b[34m██████████\u001b[0m| 266/266 [00:05<00:00, 47.50it/s]\n",
      "Validation: 100%|\u001b[32m██████████\u001b[0m| 17/17 [00:00<00:00, 123.63it/s]\n"
     ]
    },
    {
     "name": "stdout",
     "output_type": "stream",
     "text": [
      "Epoch 170/200, Disc Loss:  0.0103, Gen Loss:  3221.6909, Val Loss:  41.4079, Accuracy:  0.7370, AUROC:  0.7698\n"
     ]
    },
    {
     "name": "stderr",
     "output_type": "stream",
     "text": [
      "Train: 100%|\u001b[34m██████████\u001b[0m| 266/266 [00:05<00:00, 48.21it/s]\n",
      "Validation: 100%|\u001b[32m██████████\u001b[0m| 17/17 [00:00<00:00, 110.21it/s]\n"
     ]
    },
    {
     "name": "stdout",
     "output_type": "stream",
     "text": [
      "Epoch 171/200, Disc Loss:  0.0207, Gen Loss:  3221.6909, Val Loss:  43.8168, Accuracy:  0.7167, AUROC:  0.7629\n"
     ]
    },
    {
     "name": "stderr",
     "output_type": "stream",
     "text": [
      "Train: 100%|\u001b[34m██████████\u001b[0m| 266/266 [00:05<00:00, 50.79it/s]\n",
      "Validation: 100%|\u001b[32m██████████\u001b[0m| 17/17 [00:00<00:00, 159.93it/s]\n"
     ]
    },
    {
     "name": "stdout",
     "output_type": "stream",
     "text": [
      "Epoch 172/200, Disc Loss:  0.0430, Gen Loss:  3221.6909, Val Loss:  54.2020, Accuracy:  0.7315, AUROC:  0.7250\n"
     ]
    },
    {
     "name": "stderr",
     "output_type": "stream",
     "text": [
      "Train: 100%|\u001b[34m██████████\u001b[0m| 266/266 [00:05<00:00, 51.20it/s]\n",
      "Validation: 100%|\u001b[32m██████████\u001b[0m| 17/17 [00:00<00:00, 165.19it/s]\n"
     ]
    },
    {
     "name": "stdout",
     "output_type": "stream",
     "text": [
      "Epoch 173/200, Disc Loss:  0.0267, Gen Loss:  3221.6909, Val Loss:  44.0502, Accuracy:  0.7352, AUROC:  0.7651\n"
     ]
    },
    {
     "name": "stderr",
     "output_type": "stream",
     "text": [
      "Train: 100%|\u001b[34m██████████\u001b[0m| 266/266 [00:05<00:00, 50.78it/s]\n",
      "Validation: 100%|\u001b[32m██████████\u001b[0m| 17/17 [00:00<00:00, 153.94it/s]\n"
     ]
    },
    {
     "name": "stdout",
     "output_type": "stream",
     "text": [
      "Epoch 174/200, Disc Loss:  0.0093, Gen Loss:  3221.6909, Val Loss:  44.1777, Accuracy:  0.7222, AUROC:  0.7649\n"
     ]
    },
    {
     "name": "stderr",
     "output_type": "stream",
     "text": [
      "Train: 100%|\u001b[34m██████████\u001b[0m| 266/266 [00:05<00:00, 50.98it/s]\n",
      "Validation: 100%|\u001b[32m██████████\u001b[0m| 17/17 [00:00<00:00, 160.57it/s]\n"
     ]
    },
    {
     "name": "stdout",
     "output_type": "stream",
     "text": [
      "Epoch 175/200, Disc Loss:  0.0221, Gen Loss:  3221.6909, Val Loss:  37.6068, Accuracy:  0.7296, AUROC:  0.7627\n"
     ]
    },
    {
     "name": "stderr",
     "output_type": "stream",
     "text": [
      "Train: 100%|\u001b[34m██████████\u001b[0m| 266/266 [00:05<00:00, 50.92it/s]\n",
      "Validation: 100%|\u001b[32m██████████\u001b[0m| 17/17 [00:00<00:00, 158.05it/s]\n"
     ]
    },
    {
     "name": "stdout",
     "output_type": "stream",
     "text": [
      "Epoch 176/200, Disc Loss:  0.0210, Gen Loss:  3221.6909, Val Loss:  38.2970, Accuracy:  0.7278, AUROC:  0.7644\n"
     ]
    },
    {
     "name": "stderr",
     "output_type": "stream",
     "text": [
      "Train: 100%|\u001b[34m██████████\u001b[0m| 266/266 [00:05<00:00, 52.00it/s]\n",
      "Validation: 100%|\u001b[32m██████████\u001b[0m| 17/17 [00:00<00:00, 140.50it/s]\n"
     ]
    },
    {
     "name": "stdout",
     "output_type": "stream",
     "text": [
      "Epoch 177/200, Disc Loss:  0.0317, Gen Loss:  3221.6909, Val Loss:  38.3052, Accuracy:  0.7278, AUROC:  0.7577\n"
     ]
    },
    {
     "name": "stderr",
     "output_type": "stream",
     "text": [
      "Train: 100%|\u001b[34m██████████\u001b[0m| 266/266 [00:05<00:00, 51.50it/s]\n",
      "Validation: 100%|\u001b[32m██████████\u001b[0m| 17/17 [00:00<00:00, 168.44it/s]\n"
     ]
    },
    {
     "name": "stdout",
     "output_type": "stream",
     "text": [
      "Epoch 178/200, Disc Loss:  0.0092, Gen Loss:  3221.6909, Val Loss:  39.6541, Accuracy:  0.7296, AUROC:  0.7699\n"
     ]
    },
    {
     "name": "stderr",
     "output_type": "stream",
     "text": [
      "Train: 100%|\u001b[34m██████████\u001b[0m| 266/266 [00:05<00:00, 52.30it/s]\n",
      "Validation: 100%|\u001b[32m██████████\u001b[0m| 17/17 [00:00<00:00, 173.41it/s]\n"
     ]
    },
    {
     "name": "stdout",
     "output_type": "stream",
     "text": [
      "Epoch 179/200, Disc Loss:  0.0115, Gen Loss:  3221.6909, Val Loss:  36.6982, Accuracy:  0.7204, AUROC:  0.7599\n"
     ]
    },
    {
     "name": "stderr",
     "output_type": "stream",
     "text": [
      "Train: 100%|\u001b[34m██████████\u001b[0m| 266/266 [00:05<00:00, 52.16it/s]\n",
      "Validation: 100%|\u001b[32m██████████\u001b[0m| 17/17 [00:00<00:00, 162.35it/s]\n"
     ]
    },
    {
     "name": "stdout",
     "output_type": "stream",
     "text": [
      "Epoch 180/200, Disc Loss:  0.0117, Gen Loss:  3221.6909, Val Loss:  36.6846, Accuracy:  0.7315, AUROC:  0.7643\n"
     ]
    },
    {
     "name": "stderr",
     "output_type": "stream",
     "text": [
      "Train: 100%|\u001b[34m██████████\u001b[0m| 266/266 [00:05<00:00, 51.26it/s]\n",
      "Validation: 100%|\u001b[32m██████████\u001b[0m| 17/17 [00:00<00:00, 156.32it/s]\n"
     ]
    },
    {
     "name": "stdout",
     "output_type": "stream",
     "text": [
      "Epoch 181/200, Disc Loss:  0.0208, Gen Loss:  3221.6909, Val Loss:  37.9673, Accuracy:  0.7333, AUROC:  0.7595\n"
     ]
    },
    {
     "name": "stderr",
     "output_type": "stream",
     "text": [
      "Train: 100%|\u001b[34m██████████\u001b[0m| 266/266 [00:05<00:00, 51.97it/s]\n",
      "Validation: 100%|\u001b[32m██████████\u001b[0m| 17/17 [00:00<00:00, 150.91it/s]\n"
     ]
    },
    {
     "name": "stdout",
     "output_type": "stream",
     "text": [
      "Epoch 182/200, Disc Loss:  0.0332, Gen Loss:  3221.6909, Val Loss:  37.4411, Accuracy:  0.7333, AUROC:  0.7716\n"
     ]
    },
    {
     "name": "stderr",
     "output_type": "stream",
     "text": [
      "Train: 100%|\u001b[34m██████████\u001b[0m| 266/266 [00:05<00:00, 50.86it/s]\n",
      "Validation: 100%|\u001b[32m██████████\u001b[0m| 17/17 [00:00<00:00, 149.74it/s]\n"
     ]
    },
    {
     "name": "stdout",
     "output_type": "stream",
     "text": [
      "Epoch 183/200, Disc Loss:  0.0248, Gen Loss:  3221.6909, Val Loss:  39.0848, Accuracy:  0.7259, AUROC:  0.7686\n"
     ]
    },
    {
     "name": "stderr",
     "output_type": "stream",
     "text": [
      "Train: 100%|\u001b[34m██████████\u001b[0m| 266/266 [00:05<00:00, 51.64it/s]\n",
      "Validation: 100%|\u001b[32m██████████\u001b[0m| 17/17 [00:00<00:00, 144.45it/s]\n"
     ]
    },
    {
     "name": "stdout",
     "output_type": "stream",
     "text": [
      "Epoch 184/200, Disc Loss:  0.0088, Gen Loss:  3221.6909, Val Loss:  41.7831, Accuracy:  0.7296, AUROC:  0.7519\n"
     ]
    },
    {
     "name": "stderr",
     "output_type": "stream",
     "text": [
      "Train: 100%|\u001b[34m██████████\u001b[0m| 266/266 [00:05<00:00, 52.66it/s]\n",
      "Validation: 100%|\u001b[32m██████████\u001b[0m| 17/17 [00:00<00:00, 177.07it/s]\n"
     ]
    },
    {
     "name": "stdout",
     "output_type": "stream",
     "text": [
      "Epoch 185/200, Disc Loss:  0.0150, Gen Loss:  3221.6909, Val Loss:  30.6428, Accuracy:  0.7407, AUROC:  0.7477\n"
     ]
    },
    {
     "name": "stderr",
     "output_type": "stream",
     "text": [
      "Train: 100%|\u001b[34m██████████\u001b[0m| 266/266 [00:05<00:00, 51.93it/s]\n",
      "Validation: 100%|\u001b[32m██████████\u001b[0m| 17/17 [00:00<00:00, 175.80it/s]\n"
     ]
    },
    {
     "name": "stdout",
     "output_type": "stream",
     "text": [
      "Epoch 186/200, Disc Loss:  0.0206, Gen Loss:  3221.6909, Val Loss:  35.8325, Accuracy:  0.7315, AUROC:  0.7471\n"
     ]
    },
    {
     "name": "stderr",
     "output_type": "stream",
     "text": [
      "Train: 100%|\u001b[34m██████████\u001b[0m| 266/266 [00:05<00:00, 52.28it/s]\n",
      "Validation: 100%|\u001b[32m██████████\u001b[0m| 17/17 [00:00<00:00, 159.34it/s]\n"
     ]
    },
    {
     "name": "stdout",
     "output_type": "stream",
     "text": [
      "Epoch 187/200, Disc Loss:  0.0135, Gen Loss:  3221.6909, Val Loss:  34.5000, Accuracy:  0.7222, AUROC:  0.7647\n"
     ]
    },
    {
     "name": "stderr",
     "output_type": "stream",
     "text": [
      "Train: 100%|\u001b[34m██████████\u001b[0m| 266/266 [00:05<00:00, 52.31it/s]\n",
      "Validation: 100%|\u001b[32m██████████\u001b[0m| 17/17 [00:00<00:00, 147.07it/s]\n"
     ]
    },
    {
     "name": "stdout",
     "output_type": "stream",
     "text": [
      "Epoch 188/200, Disc Loss:  0.0099, Gen Loss:  3221.6909, Val Loss:  33.7963, Accuracy:  0.7241, AUROC:  0.7574\n"
     ]
    },
    {
     "name": "stderr",
     "output_type": "stream",
     "text": [
      "Train: 100%|\u001b[34m██████████\u001b[0m| 266/266 [00:05<00:00, 52.13it/s]\n",
      "Validation: 100%|\u001b[32m██████████\u001b[0m| 17/17 [00:00<00:00, 149.54it/s]\n"
     ]
    },
    {
     "name": "stdout",
     "output_type": "stream",
     "text": [
      "Epoch 189/200, Disc Loss:  0.0205, Gen Loss:  3221.6909, Val Loss:  41.7752, Accuracy:  0.7296, AUROC:  0.7512\n"
     ]
    },
    {
     "name": "stderr",
     "output_type": "stream",
     "text": [
      "Train: 100%|\u001b[34m██████████\u001b[0m| 266/266 [00:05<00:00, 51.29it/s]\n",
      "Validation: 100%|\u001b[32m██████████\u001b[0m| 17/17 [00:00<00:00, 161.07it/s]\n"
     ]
    },
    {
     "name": "stdout",
     "output_type": "stream",
     "text": [
      "Epoch 190/200, Disc Loss:  0.0309, Gen Loss:  3221.6909, Val Loss:  39.3546, Accuracy:  0.7259, AUROC:  0.7543\n"
     ]
    },
    {
     "name": "stderr",
     "output_type": "stream",
     "text": [
      "Train: 100%|\u001b[34m██████████\u001b[0m| 266/266 [00:05<00:00, 52.12it/s]\n",
      "Validation: 100%|\u001b[32m██████████\u001b[0m| 17/17 [00:00<00:00, 153.58it/s]\n"
     ]
    },
    {
     "name": "stdout",
     "output_type": "stream",
     "text": [
      "Epoch 191/200, Disc Loss:  0.0515, Gen Loss:  3221.6909, Val Loss:  48.2212, Accuracy:  0.7241, AUROC:  0.7559\n"
     ]
    },
    {
     "name": "stderr",
     "output_type": "stream",
     "text": [
      "Train: 100%|\u001b[34m██████████\u001b[0m| 266/266 [00:05<00:00, 52.28it/s]\n",
      "Validation: 100%|\u001b[32m██████████\u001b[0m| 17/17 [00:00<00:00, 137.47it/s]\n"
     ]
    },
    {
     "name": "stdout",
     "output_type": "stream",
     "text": [
      "Epoch 192/200, Disc Loss:  0.0603, Gen Loss:  3221.6909, Val Loss:  48.1925, Accuracy:  0.7296, AUROC:  0.7482\n"
     ]
    },
    {
     "name": "stderr",
     "output_type": "stream",
     "text": [
      "Train: 100%|\u001b[34m██████████\u001b[0m| 266/266 [00:05<00:00, 50.76it/s]\n",
      "Validation: 100%|\u001b[32m██████████\u001b[0m| 17/17 [00:00<00:00, 165.60it/s]\n"
     ]
    },
    {
     "name": "stdout",
     "output_type": "stream",
     "text": [
      "Epoch 193/200, Disc Loss:  0.0036, Gen Loss:  3221.6909, Val Loss:  42.7990, Accuracy:  0.7296, AUROC:  0.7376\n"
     ]
    },
    {
     "name": "stderr",
     "output_type": "stream",
     "text": [
      "Train: 100%|\u001b[34m██████████\u001b[0m| 266/266 [00:05<00:00, 52.14it/s]\n",
      "Validation: 100%|\u001b[32m██████████\u001b[0m| 17/17 [00:00<00:00, 152.31it/s]\n"
     ]
    },
    {
     "name": "stdout",
     "output_type": "stream",
     "text": [
      "Epoch 194/200, Disc Loss:  0.0362, Gen Loss:  3221.6909, Val Loss:  41.0615, Accuracy:  0.7074, AUROC:  0.7662\n"
     ]
    },
    {
     "name": "stderr",
     "output_type": "stream",
     "text": [
      "Train: 100%|\u001b[34m██████████\u001b[0m| 266/266 [00:05<00:00, 51.15it/s]\n",
      "Validation: 100%|\u001b[32m██████████\u001b[0m| 17/17 [00:00<00:00, 138.85it/s]\n"
     ]
    },
    {
     "name": "stdout",
     "output_type": "stream",
     "text": [
      "Epoch 195/200, Disc Loss:  0.0141, Gen Loss:  3221.6909, Val Loss:  41.0143, Accuracy:  0.7222, AUROC:  0.7648\n"
     ]
    },
    {
     "name": "stderr",
     "output_type": "stream",
     "text": [
      "Train: 100%|\u001b[34m██████████\u001b[0m| 266/266 [00:05<00:00, 51.81it/s]\n",
      "Validation: 100%|\u001b[32m██████████\u001b[0m| 17/17 [00:00<00:00, 147.51it/s]\n"
     ]
    },
    {
     "name": "stdout",
     "output_type": "stream",
     "text": [
      "Epoch 196/200, Disc Loss:  0.0128, Gen Loss:  3221.6909, Val Loss:  42.4130, Accuracy:  0.7259, AUROC:  0.7656\n"
     ]
    },
    {
     "name": "stderr",
     "output_type": "stream",
     "text": [
      "Train: 100%|\u001b[34m██████████\u001b[0m| 266/266 [00:05<00:00, 51.47it/s]\n",
      "Validation: 100%|\u001b[32m██████████\u001b[0m| 17/17 [00:00<00:00, 120.27it/s]\n"
     ]
    },
    {
     "name": "stdout",
     "output_type": "stream",
     "text": [
      "Epoch 197/200, Disc Loss:  0.0517, Gen Loss:  3221.6909, Val Loss:  41.0496, Accuracy:  0.7352, AUROC:  0.7728\n"
     ]
    },
    {
     "name": "stderr",
     "output_type": "stream",
     "text": [
      "Train: 100%|\u001b[34m██████████\u001b[0m| 266/266 [00:05<00:00, 51.50it/s]\n",
      "Validation: 100%|\u001b[32m██████████\u001b[0m| 17/17 [00:00<00:00, 139.35it/s]\n"
     ]
    },
    {
     "name": "stdout",
     "output_type": "stream",
     "text": [
      "Epoch 198/200, Disc Loss:  0.0217, Gen Loss:  3221.6909, Val Loss:  35.0317, Accuracy:  0.7333, AUROC:  0.7517\n"
     ]
    },
    {
     "name": "stderr",
     "output_type": "stream",
     "text": [
      "Train: 100%|\u001b[34m██████████\u001b[0m| 266/266 [00:05<00:00, 51.55it/s]\n",
      "Validation: 100%|\u001b[32m██████████\u001b[0m| 17/17 [00:00<00:00, 143.66it/s]\n"
     ]
    },
    {
     "name": "stdout",
     "output_type": "stream",
     "text": [
      "Epoch 199/200, Disc Loss:  0.0214, Gen Loss:  3221.6909, Val Loss:  45.3422, Accuracy:  0.7407, AUROC:  0.7745\n"
     ]
    },
    {
     "name": "stderr",
     "output_type": "stream",
     "text": [
      "Train: 100%|\u001b[34m██████████\u001b[0m| 266/266 [00:05<00:00, 51.91it/s]\n",
      "Validation: 100%|\u001b[32m██████████\u001b[0m| 17/17 [00:00<00:00, 151.93it/s]\n"
     ]
    },
    {
     "name": "stdout",
     "output_type": "stream",
     "text": [
      "Epoch 200/200, Disc Loss:  0.0063, Gen Loss:  3221.6909, Val Loss:  42.8511, Accuracy:  0.7370, AUROC:  0.7692\n"
     ]
    }
   ],
   "source": [
    "# Define optimizers\n",
    "gen_optimizer = gen_optimi(gen.parameters())\n",
    "disc_optimizer = disc_optim(disc.parameters())\n",
    "\n",
    "# Define criterions\n",
    "# WGAN Losses\n",
    "gen_GAN_criterion = lambda fake_source, _: -torch.mean(fake_source) \n",
    "disc_GAN_criterion = lambda fake_source, real_source: -torch.mean(real_source) + torch.mean(fake_source)     \n",
    "\n",
    "# Classifier loss     \n",
    "disc_class_criterion = nn.BCEWithLogitsLoss()\n",
    "if use_unimodal:\n",
    "    gen_unimodal_criterion = nn.BCEWithLogitsLoss() \n",
    "\n",
    "# Define metric logs\n",
    "gen_loss_log = []\n",
    "disc_loss_log = []\n",
    "val_loss_log = []\n",
    "val_metrics_log = {k: [] for k in metrics.keys()}\n",
    "best_val_accuracy = 0\n",
    "\n",
    "\n",
    "fig, ax = plt.subplots(1, 3, figsize=(15, 5))\n",
    "dh = display(fig, display_id=True)\n",
    "# Training loop\n",
    "for epoch in range(epochs):\n",
    "    for i, (img_feature, real_text_feature, real_labels) in enumerate(tqdm(train_dataloader, leave=True, desc='Train', colour='blue')):\n",
    "        # Set models to training mode\n",
    "        gen.train()\n",
    "        disc.train()\n",
    "\n",
    "        # Move data to device\n",
    "        img_feature = img_feature.to(device)\n",
    "        real_text_feature = real_text_feature.to(device)\n",
    "        real_labels = real_labels.to(device).float()\n",
    "        # Random noise and labels\n",
    "        noise = torch.randn(img_feature.size(0), noise_dim, device=device) # (batch_size, noise_dim)\n",
    "        fake_labels = torch.randint(0, 2, (img_feature.size(0),), device=device) # (batch_size,)\n",
    "        \n",
    "        # Update n_step_gen times the generator\n",
    "        # Set to frozen the discriminator and update the generator\n",
    "        set_model_require_grad(disc, False)\n",
    "        set_model_require_grad(gen, True)\n",
    "        for _ in range(n_step_gen):\n",
    "            # Zero gradients\n",
    "            gen_optimizer.zero_grad()\n",
    "            # Forward pass\n",
    "            fake_text_feature = gen(img_feature, noise, fake_labels)\n",
    "            # Discriminator forward pass\n",
    "            fake_source, fake_class = disc(img_feature, fake_text_feature)\n",
    "            # Compute losses\n",
    "            gen_GAN_loss = gen_GAN_criterion(fake_source, fake_class)\n",
    "            gen_class_loss = disc_class_criterion(fake_class, fake_labels.float())\n",
    "\n",
    "            # Classifier loss\n",
    "            if use_unimodal:\n",
    "                gen_unimodal_loss = gen_unimodal_criterion(unimodal_model_weights['classifier'](fake_text_feature), torch.zeros_like(fake_text_feature))\n",
    "                gen_loss = gen_GAN_loss +lambda_unimodal * gen_unimodal_loss + lambda_class * gen_class_loss\n",
    "            else:\n",
    "                gen_loss = gen_GAN_loss + lambda_class * gen_class_loss\n",
    "\n",
    "            # Regularization\n",
    "            if lambda_L1 > 0:\n",
    "                gen_loss += lambda_L1 * L1_regularization(gen_params)\n",
    "            if lambda_L2 > 0:\n",
    "                gen_loss += lambda_L2 * L2_regularization(gen_params)\n",
    "            \n",
    "            # Backward pass\n",
    "            gen_loss.backward()\n",
    "            # Update weights\n",
    "            gen_optimizer.step()\n",
    "        \n",
    "        # Update n_step_disc times the discriminator\n",
    "        # Set to frozen the generator and update the discriminator\n",
    "        set_model_require_grad(disc, True)\n",
    "        set_model_require_grad(gen, False)\n",
    "        for _ in range(n_step_disc):\n",
    "            # Zero gradients\n",
    "            disc_optimizer.zero_grad()\n",
    "            # Forward pass\n",
    "            fake_text_feature = gen(img_feature, noise, fake_labels)\n",
    "            # Discriminator forward pass\n",
    "            real_source, real_class = disc(img_feature, real_text_feature)\n",
    "            fake_source, fake_class = disc(img_feature, fake_text_feature)\n",
    "            # Compute losses\n",
    "            disc_GAN_loss = disc_GAN_criterion(fake_source, real_source)\n",
    "            disc_class_loss = disc_class_criterion(real_class, real_labels)\n",
    "            # Compute gradient penalty\n",
    "            if lambda_gp > 0:\n",
    "                gp = compute_gradient_penalty(disc, img_feature, real_text_feature, fake_text_feature, device)\n",
    "                disc_loss = disc_GAN_loss + lambda_class * disc_class_loss + lambda_gp * gp\n",
    "            else:\n",
    "                disc_loss = disc_GAN_loss + lambda_class * disc_class_loss\n",
    "\n",
    "            # Regularization\n",
    "            if lambda_L1 > 0:\n",
    "                disc_loss += lambda_L1 * L1_regularization(disc_params)\n",
    "            if lambda_L2 > 0:\n",
    "                disc_loss += lambda_L2 * L2_regularization(disc_params)\n",
    "\n",
    "            disc_loss = disc_class_loss # Uncomment to train GAN\n",
    "            # Backward pass\n",
    "            disc_loss.backward()\n",
    "            # Update weights\n",
    "            disc_optimizer.step()\n",
    "            # Clamp weights\n",
    "            if weight_cliping is not None:\n",
    "                clamp_weights(disc, weight_cliping)\n",
    "        \n",
    "        # Log losses\n",
    "        gen_loss_log.append(gen_loss.item())\n",
    "        disc_loss_log.append(disc_loss.item())\n",
    "\n",
    "    # Evaluate model\n",
    "    val_loss, val_metrics = evaluate(disc, val_dataloader, disc_class_criterion, metrics, device)\n",
    "    for k, v in val_metrics.items():\n",
    "        val_metrics_log[k].append(v.cpu().numpy())\n",
    "    val_loss_log.append(val_loss)\n",
    "    best_val_accuracy = max(best_val_accuracy, val_metrics['acc'])\n",
    "    disc_epoch_loss = np.mean(disc_loss_log[-len(train_dataloader):])\n",
    "    gen_epoch_loss = np.mean(gen_loss_log[-len(train_dataloader):])\n",
    "    print(f\"Epoch {epoch+1}/{epochs}, Disc Loss: {disc_epoch_loss: .4f}, Gen Loss: {gen_epoch_loss: .4f}, Val Loss: {val_loss: .4f}, Accuracy: {val_metrics['acc']: .4f}, AUROC: {val_metrics['auroc']: .4f}\")\n",
    "    # Plot losses\n",
    "    plot_losses(fig, ax, gen_loss_log, disc_loss_log, val_loss_log, val_metrics_log)\n",
    "    dh.update(fig)\n",
    "plt.close()"
   ]
  },
  {
   "cell_type": "code",
   "execution_count": 493,
   "metadata": {},
   "outputs": [
    {
     "name": "stderr",
     "output_type": "stream",
     "text": [
      "Validation: 100%|\u001b[32m██████████\u001b[0m| 63/63 [00:00<00:00, 215.20it/s]"
     ]
    },
    {
     "name": "stdout",
     "output_type": "stream",
     "text": [
      "Test loss:  41.0178, Test accuracy:  0.7655, Test AUROC:  0.8239\n"
     ]
    },
    {
     "name": "stderr",
     "output_type": "stream",
     "text": [
      "\n"
     ]
    }
   ],
   "source": [
    "# Evaluate on test dataset\n",
    "test_loss, test_metrics = evaluate(disc, test_dataloader, disc_class_criterion, metrics, device)\n",
    "print(f\"Test loss: {test_loss: .4f}, Test accuracy: {test_metrics['acc']: .4f}, Test AUROC: {test_metrics['auroc']: .4f}\")"
   ]
  }
 ],
 "metadata": {
  "kernelspec": {
   "display_name": "DeepLearning",
   "language": "python",
   "name": "python3"
  },
  "language_info": {
   "codemirror_mode": {
    "name": "ipython",
    "version": 3
   },
   "file_extension": ".py",
   "mimetype": "text/x-python",
   "name": "python",
   "nbconvert_exporter": "python",
   "pygments_lexer": "ipython3",
   "version": "3.11.9"
  }
 },
 "nbformat": 4,
 "nbformat_minor": 2
}
